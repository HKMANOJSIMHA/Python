{
 "cells": [
  {
   "cell_type": "code",
   "execution_count": 1,
   "id": "548a88fb",
   "metadata": {},
   "outputs": [],
   "source": [
    "l1=[]\n",
    "for num in range(10,20):\n",
    "    l1.append(num)"
   ]
  },
  {
   "cell_type": "code",
   "execution_count": 2,
   "id": "2c469a90",
   "metadata": {},
   "outputs": [
    {
     "data": {
      "text/plain": [
       "[10, 11, 12, 13, 14, 15, 16, 17, 18, 19]"
      ]
     },
     "execution_count": 2,
     "metadata": {},
     "output_type": "execute_result"
    }
   ],
   "source": [
    "l1"
   ]
  },
  {
   "cell_type": "code",
   "execution_count": 3,
   "id": "83f0371b",
   "metadata": {},
   "outputs": [],
   "source": [
    "l1=[num for num in range(0,10)]"
   ]
  },
  {
   "cell_type": "code",
   "execution_count": 4,
   "id": "d1dc9f28",
   "metadata": {},
   "outputs": [
    {
     "data": {
      "text/plain": [
       "[0, 1, 2, 3, 4, 5, 6, 7, 8, 9]"
      ]
     },
     "execution_count": 4,
     "metadata": {},
     "output_type": "execute_result"
    }
   ],
   "source": [
    "l1"
   ]
  },
  {
   "cell_type": "code",
   "execution_count": 5,
   "id": "5a6f446b",
   "metadata": {},
   "outputs": [],
   "source": [
    "l1=[char for char in \"Manoj\"]"
   ]
  },
  {
   "cell_type": "code",
   "execution_count": 6,
   "id": "cbefa91e",
   "metadata": {},
   "outputs": [
    {
     "data": {
      "text/plain": [
       "['M', 'a', 'n', 'o', 'j']"
      ]
     },
     "execution_count": 6,
     "metadata": {},
     "output_type": "execute_result"
    }
   ],
   "source": [
    "l1"
   ]
  },
  {
   "cell_type": "code",
   "execution_count": 7,
   "id": "84bff71a",
   "metadata": {},
   "outputs": [],
   "source": [
    "l1=[num for num in [10,20,30,40] if num%4==0]"
   ]
  },
  {
   "cell_type": "code",
   "execution_count": 8,
   "id": "02703623",
   "metadata": {},
   "outputs": [
    {
     "data": {
      "text/plain": [
       "[20, 40]"
      ]
     },
     "execution_count": 8,
     "metadata": {},
     "output_type": "execute_result"
    }
   ],
   "source": [
    "l1"
   ]
  },
  {
   "cell_type": "code",
   "execution_count": 9,
   "id": "624cd273",
   "metadata": {},
   "outputs": [],
   "source": [
    "l1=[num+num for num in [10,20,30,40] if num%4==0]"
   ]
  },
  {
   "cell_type": "code",
   "execution_count": 10,
   "id": "bb776c15",
   "metadata": {},
   "outputs": [
    {
     "data": {
      "text/plain": [
       "[40, 80]"
      ]
     },
     "execution_count": 10,
     "metadata": {},
     "output_type": "execute_result"
    }
   ],
   "source": [
    "l1"
   ]
  },
  {
   "cell_type": "code",
   "execution_count": 11,
   "id": "bc1ac896",
   "metadata": {},
   "outputs": [],
   "source": [
    "l1=[x if x%2==0 else x+5 for x in range(10,20)]"
   ]
  },
  {
   "cell_type": "code",
   "execution_count": 12,
   "id": "403fab4a",
   "metadata": {},
   "outputs": [
    {
     "data": {
      "text/plain": [
       "[10, 16, 12, 18, 14, 20, 16, 22, 18, 24]"
      ]
     },
     "execution_count": 12,
     "metadata": {},
     "output_type": "execute_result"
    }
   ],
   "source": [
    "l1"
   ]
  },
  {
   "cell_type": "code",
   "execution_count": 15,
   "id": "a5c6643c",
   "metadata": {},
   "outputs": [],
   "source": [
    "l1=[x*y for x in range(0,3) for y in range(0,3)]"
   ]
  },
  {
   "cell_type": "code",
   "execution_count": 16,
   "id": "eed69d6e",
   "metadata": {},
   "outputs": [
    {
     "data": {
      "text/plain": [
       "[0, 0, 0, 0, 1, 2, 0, 2, 4]"
      ]
     },
     "execution_count": 16,
     "metadata": {},
     "output_type": "execute_result"
    }
   ],
   "source": [
    "l1"
   ]
  },
  {
   "cell_type": "code",
   "execution_count": null,
   "id": "0954c9e8",
   "metadata": {},
   "outputs": [],
   "source": []
  }
 ],
 "metadata": {
  "kernelspec": {
   "display_name": "Python 3",
   "language": "python",
   "name": "python3"
  },
  "language_info": {
   "codemirror_mode": {
    "name": "ipython",
    "version": 3
   },
   "file_extension": ".py",
   "mimetype": "text/x-python",
   "name": "python",
   "nbconvert_exporter": "python",
   "pygments_lexer": "ipython3",
   "version": "3.8.8"
  }
 },
 "nbformat": 4,
 "nbformat_minor": 5
}
