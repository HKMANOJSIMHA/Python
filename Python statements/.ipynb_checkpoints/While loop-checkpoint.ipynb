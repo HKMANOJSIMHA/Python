{
 "cells": [
  {
   "cell_type": "code",
   "execution_count": 1,
   "id": "ddc271b2",
   "metadata": {},
   "outputs": [
    {
     "name": "stdout",
     "output_type": "stream",
     "text": [
      "The value of x is: 0\n",
      "The value of x is: 1\n",
      "The value of x is: 2\n",
      "The value of x is: 3\n",
      "The value of x is: 4\n",
      "The value of x is: 5\n",
      "The value of x is: 6\n",
      "The value of x is: 7\n",
      "The value of x is: 8\n",
      "The value of x is: 9\n",
      "The value of x is: 10\n"
     ]
    }
   ],
   "source": [
    "x=0\n",
    "while x<=10:\n",
    "    print(f'The value of x is: {x}')\n",
    "    x+=1"
   ]
  },
  {
   "cell_type": "code",
   "execution_count": 6,
   "id": "2a633af6",
   "metadata": {},
   "outputs": [
    {
     "name": "stdout",
     "output_type": "stream",
     "text": [
      "The value of x is: 0\n",
      "The value of x is: 1\n",
      "The value of x is: 2\n",
      "The value of x is: 3\n",
      "The value of x is: 4\n",
      "The value of x is: 5\n",
      "The value of x is: 6\n",
      "The value of x is: 7\n",
      "The value of x is: 8\n",
      "The value of x is: 9\n",
      "The value of x is: 10\n",
      "x is no more less than 10\n"
     ]
    }
   ],
   "source": [
    "x=0\n",
    "while x<=10:\n",
    "    print(f'The value of x is: {x}')\n",
    "    x+=1\n",
    "else:\n",
    "    print(\"x is no more less than 10\")"
   ]
  },
  {
   "cell_type": "code",
   "execution_count": 5,
   "id": "975b02d0",
   "metadata": {},
   "outputs": [
    {
     "name": "stdout",
     "output_type": "stream",
     "text": [
      "x is no more less than 10\n"
     ]
    }
   ],
   "source": [
    "x=11\n",
    "while x<=10:\n",
    "    print(f'The value of x is: {x}')\n",
    "    x+=1\n",
    "else:\n",
    "    print(\"x is no more less than 10\")"
   ]
  },
  {
   "cell_type": "code",
   "execution_count": null,
   "id": "0309b474",
   "metadata": {},
   "outputs": [],
   "source": []
  }
 ],
 "metadata": {
  "kernelspec": {
   "display_name": "Python 3",
   "language": "python",
   "name": "python3"
  },
  "language_info": {
   "codemirror_mode": {
    "name": "ipython",
    "version": 3
   },
   "file_extension": ".py",
   "mimetype": "text/x-python",
   "name": "python",
   "nbconvert_exporter": "python",
   "pygments_lexer": "ipython3",
   "version": "3.8.8"
  }
 },
 "nbformat": 4,
 "nbformat_minor": 5
}
