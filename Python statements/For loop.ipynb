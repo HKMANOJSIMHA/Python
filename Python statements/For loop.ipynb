{
 "cells": [
  {
   "cell_type": "code",
   "execution_count": 2,
   "id": "aedac36d",
   "metadata": {},
   "outputs": [],
   "source": [
    "mylist=[1,2,3,4]"
   ]
  },
  {
   "cell_type": "code",
   "execution_count": 6,
   "id": "cc10545f",
   "metadata": {},
   "outputs": [
    {
     "name": "stdout",
     "output_type": "stream",
     "text": [
      "1 is even \n",
      "2 is odd \n",
      "3 is even \n",
      "4 is odd \n"
     ]
    }
   ],
   "source": [
    "for ele in mylist:\n",
    "    if ele%2==0:\n",
    "        print(\"{}\".format(ele)+\" is odd \")\n",
    "    else:\n",
    "         print(\"{}\".format(ele)+\" is even \")"
   ]
  },
  {
   "cell_type": "code",
   "execution_count": 10,
   "id": "b4f6fb14",
   "metadata": {},
   "outputs": [
    {
     "name": "stdout",
     "output_type": "stream",
     "text": [
      "2\n"
     ]
    }
   ],
   "source": [
    "mystring=\"Manoj maddy\"\n",
    "count=0\n",
    "for char in mystring:\n",
    "    if char=='M' or char=='m':\n",
    "        count+=1\n",
    "print(count)\n",
    "    "
   ]
  },
  {
   "cell_type": "code",
   "execution_count": 11,
   "id": "6dad870d",
   "metadata": {},
   "outputs": [
    {
     "name": "stdout",
     "output_type": "stream",
     "text": [
      "The sum of tuple is 6\n"
     ]
    }
   ],
   "source": [
    "tup=(1,2,3)\n",
    "sum=0\n",
    "for item in tup:\n",
    "    sum+=item\n",
    "print(f'The sum of tuple is {sum}')\n",
    "    "
   ]
  },
  {
   "cell_type": "code",
   "execution_count": 12,
   "id": "9d345960",
   "metadata": {},
   "outputs": [
    {
     "name": "stdout",
     "output_type": "stream",
     "text": [
      "3\n",
      "7\n",
      "9\n",
      "13\n"
     ]
    }
   ],
   "source": [
    "#tuple unpacking\n",
    "list1=[(1,2),(3,4),(4,5),(6,7)]\n",
    "for a,b in list1:\n",
    "    print(a+b)"
   ]
  },
  {
   "cell_type": "code",
   "execution_count": 13,
   "id": "735969fb",
   "metadata": {},
   "outputs": [
    {
     "name": "stdout",
     "output_type": "stream",
     "text": [
      "10\n",
      "20\n",
      "30\n"
     ]
    }
   ],
   "source": [
    "d={'k1':10,'k2':20,'k3':30}\n",
    "for item in d.values():\n",
    "    print(item)"
   ]
  },
  {
   "cell_type": "code",
   "execution_count": 14,
   "id": "5cbc1a37",
   "metadata": {},
   "outputs": [
    {
     "name": "stdout",
     "output_type": "stream",
     "text": [
      "k1\n",
      "k2\n",
      "k3\n"
     ]
    }
   ],
   "source": [
    "d={'k1':10,'k2':20,'k3':30}\n",
    "for item in d.keys():\n",
    "    print(item)"
   ]
  },
  {
   "cell_type": "code",
   "execution_count": 15,
   "id": "fa01f8d6",
   "metadata": {},
   "outputs": [
    {
     "name": "stdout",
     "output_type": "stream",
     "text": [
      "('k1', 10)\n",
      "('k2', 20)\n",
      "('k3', 30)\n"
     ]
    }
   ],
   "source": [
    "d={'k1':10,'k2':20,'k3':30}\n",
    "for item in d.items():\n",
    "    print(item)"
   ]
  },
  {
   "cell_type": "code",
   "execution_count": 16,
   "id": "0a10a870",
   "metadata": {},
   "outputs": [
    {
     "name": "stdout",
     "output_type": "stream",
     "text": [
      "k1 pairs with 10\n",
      "k2 pairs with 20\n",
      "k3 pairs with 30\n"
     ]
    }
   ],
   "source": [
    "#dictonary unpacking\n",
    "d={'k1':10,'k2':20,'k3':30}\n",
    "for a,b in d.items():\n",
    "    print(f'{a} pairs with {b}')"
   ]
  },
  {
   "cell_type": "code",
   "execution_count": 3,
   "id": "8a7eb50f",
   "metadata": {},
   "outputs": [
    {
     "name": "stdout",
     "output_type": "stream",
     "text": [
      "100 is the sum\n"
     ]
    }
   ],
   "source": [
    "l1=[10,20,30,40]\n",
    "Sum=0\n",
    "for item in l1:\n",
    "    Sum=Sum+item\n",
    "print(f'{Sum} is the sum')\n"
   ]
  },
  {
   "cell_type": "code",
   "execution_count": 4,
   "id": "2c588592",
   "metadata": {},
   "outputs": [
    {
     "name": "stdout",
     "output_type": "stream",
     "text": [
      "Sum is 6\n"
     ]
    }
   ],
   "source": [
    "t1=(0,1,2,3)\n",
    "Sum=0\n",
    "for item in t1:\n",
    "    Sum=Sum+item\n",
    "print(\"Sum is {}\".format(Sum))"
   ]
  },
  {
   "cell_type": "code",
   "execution_count": 5,
   "id": "2702bc66",
   "metadata": {},
   "outputs": [
    {
     "name": "stdout",
     "output_type": "stream",
     "text": [
      "m\n",
      "a\n",
      "n\n",
      "o\n",
      "j\n",
      "M\n",
      "a\n",
      "d\n",
      "d\n",
      "y\n"
     ]
    }
   ],
   "source": [
    "name=\"manojMaddy\"\n",
    "for char in name:\n",
    "    print(char)"
   ]
  },
  {
   "cell_type": "code",
   "execution_count": 8,
   "id": "b4bc33e8",
   "metadata": {},
   "outputs": [
    {
     "name": "stdout",
     "output_type": "stream",
     "text": [
      "66\n"
     ]
    }
   ],
   "source": [
    "d1={'k1':10,'k2':20,'k3':30}\n",
    "for item in d1.values():\n",
    "    Sum=Sum+item\n",
    "print(Sum)"
   ]
  },
  {
   "cell_type": "code",
   "execution_count": 9,
   "id": "64e7c21a",
   "metadata": {},
   "outputs": [
    {
     "ename": "NameError",
     "evalue": "name 'String' is not defined",
     "output_type": "error",
     "traceback": [
      "\u001b[1;31m---------------------------------------------------------------------------\u001b[0m",
      "\u001b[1;31mNameError\u001b[0m                                 Traceback (most recent call last)",
      "\u001b[1;32m<ipython-input-9-e2a5398f6c0b>\u001b[0m in \u001b[0;36m<module>\u001b[1;34m\u001b[0m\n\u001b[0;32m      1\u001b[0m \u001b[1;32mfor\u001b[0m \u001b[0mitem\u001b[0m \u001b[1;32min\u001b[0m \u001b[0md1\u001b[0m\u001b[1;33m.\u001b[0m\u001b[0mkeys\u001b[0m\u001b[1;33m(\u001b[0m\u001b[1;33m)\u001b[0m\u001b[1;33m:\u001b[0m\u001b[1;33m\u001b[0m\u001b[1;33m\u001b[0m\u001b[0m\n\u001b[1;32m----> 2\u001b[1;33m     \u001b[0mString\u001b[0m\u001b[1;33m=\u001b[0m\u001b[0mString\u001b[0m\u001b[1;33m+\u001b[0m\u001b[0mitem\u001b[0m\u001b[1;33m\u001b[0m\u001b[1;33m\u001b[0m\u001b[0m\n\u001b[0m\u001b[0;32m      3\u001b[0m \u001b[0mString\u001b[0m\u001b[1;33m\u001b[0m\u001b[1;33m\u001b[0m\u001b[0m\n",
      "\u001b[1;31mNameError\u001b[0m: name 'String' is not defined"
     ]
    }
   ],
   "source": [
    "for item in d1.keys():\n",
    "    String=String+item\n",
    "String"
   ]
  },
  {
   "cell_type": "code",
   "execution_count": null,
   "id": "98db7c6c",
   "metadata": {},
   "outputs": [],
   "source": []
  }
 ],
 "metadata": {
  "kernelspec": {
   "display_name": "Python 3",
   "language": "python",
   "name": "python3"
  },
  "language_info": {
   "codemirror_mode": {
    "name": "ipython",
    "version": 3
   },
   "file_extension": ".py",
   "mimetype": "text/x-python",
   "name": "python",
   "nbconvert_exporter": "python",
   "pygments_lexer": "ipython3",
   "version": "3.8.8"
  }
 },
 "nbformat": 4,
 "nbformat_minor": 5
}
