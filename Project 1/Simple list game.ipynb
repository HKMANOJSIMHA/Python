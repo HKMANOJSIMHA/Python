{
 "cells": [
  {
   "cell_type": "code",
   "execution_count": 1,
   "id": "b2adb88f",
   "metadata": {},
   "outputs": [],
   "source": [
    "def display_list(lst):\n",
    "    print(\"The current list contents are:\\n {}\".format(lst))"
   ]
  },
  {
   "cell_type": "code",
   "execution_count": 2,
   "id": "bfa1a6c4",
   "metadata": {},
   "outputs": [],
   "source": [
    "def index_selection():\n",
    "    choice='wrong'\n",
    "    while choice not in ['0','1','2']:\n",
    "        \n",
    "        choice=input(\"Select the desired index from (0,1,2):\")\n",
    "        \n",
    "        if choice not in ['0','1','2']:\n",
    "            print(\"Hey!! thats a wrong input please try again\")\n",
    "    return int(choice)"
   ]
  },
  {
   "cell_type": "code",
   "execution_count": 3,
   "id": "fe33aa85",
   "metadata": {},
   "outputs": [],
   "source": [
    "def item_selection(game_lst,pos):\n",
    "    item=input(\"Enter the item that you want to replace:\")\n",
    "    game_lst[pos]=item\n",
    "    return game_lst"
   ]
  },
  {
   "cell_type": "code",
   "execution_count": 4,
   "id": "7f827729",
   "metadata": {},
   "outputs": [],
   "source": [
    "def game_continue():\n",
    "    choice='wrong'\n",
    "    while choice not in ['Y','N','y','n']:\n",
    "        choice=input(\"Do you want to continue the game?(Y/y-Yes N/n-No)\")\n",
    "        \n",
    "        if choice not in ['Y','N','y','n']:\n",
    "            print(\"Oops!! Invalid choice\")\n",
    "        elif choice in ['y','Y']:\n",
    "            return True\n",
    "        elif choice in ['n','N']:\n",
    "            return False\n",
    "        else:\n",
    "            pass"
   ]
  },
  {
   "cell_type": "code",
   "execution_count": 15,
   "id": "72112ecb",
   "metadata": {},
   "outputs": [
    {
     "name": "stdout",
     "output_type": "stream",
     "text": [
      "The current list contents are:\n",
      " ['', '', '']\n",
      "Select the desired index from (0,1,2):two\n",
      "Hey!! thats a wrong input please try again\n",
      "Select the desired index from (0,1,2):100\n",
      "Hey!! thats a wrong input please try again\n",
      "Select the desired index from (0,1,2):2\n",
      "Enter the item that you want to replace:manoj\n",
      "The current list contents are:\n",
      " ['', '', 'manoj']\n",
      "Do you want to continue the game?(Y/y-Yes N/n-No)y\n",
      "The current list contents are:\n",
      " ['', '', 'manoj']\n",
      "Select the desired index from (0,1,2):0\n",
      "Enter the item that you want to replace:maddy\n",
      "The current list contents are:\n",
      " ['maddy', '', 'manoj']\n",
      "Do you want to continue the game?(Y/y-Yes N/n-No)no\n",
      "Oops!! Invalid choice\n",
      "Do you want to continue the game?(Y/y-Yes N/n-No)manoj\n",
      "Oops!! Invalid choice\n",
      "Do you want to continue the game?(Y/y-Yes N/n-No)y\n",
      "The current list contents are:\n",
      " ['maddy', '', 'manoj']\n",
      "Select the desired index from (0,1,2):0\n",
      "Enter the item that you want to replace:mannu\n",
      "The current list contents are:\n",
      " ['mannu', '', 'manoj']\n",
      "Do you want to continue the game?(Y/y-Yes N/n-No)n\n",
      "Bubyee have a nice day:\n"
     ]
    }
   ],
   "source": [
    "game_list=['','','']\n",
    "choice=True\n",
    "while choice:\n",
    "    display_list(game_list)\n",
    "\n",
    "    pos=index_selection()\n",
    "\n",
    "    game_list=item_selection(game_list,pos)\n",
    "\n",
    "    display_list(game_list)\n",
    "\n",
    "    choice=game_continue()\n",
    "else:\n",
    "    print(\"Bubyee have a nice day:\")\n",
    "\n",
    "\n",
    "\n"
   ]
  }
 ],
 "metadata": {
  "kernelspec": {
   "display_name": "Python 3",
   "language": "python",
   "name": "python3"
  },
  "language_info": {
   "codemirror_mode": {
    "name": "ipython",
    "version": 3
   },
   "file_extension": ".py",
   "mimetype": "text/x-python",
   "name": "python",
   "nbconvert_exporter": "python",
   "pygments_lexer": "ipython3",
   "version": "3.8.8"
  }
 },
 "nbformat": 4,
 "nbformat_minor": 5
}
