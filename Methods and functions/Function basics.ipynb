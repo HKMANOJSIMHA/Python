{
 "cells": [
  {
   "cell_type": "code",
   "execution_count": 1,
   "id": "4144384a",
   "metadata": {},
   "outputs": [
    {
     "name": "stdout",
     "output_type": "stream",
     "text": [
      "Hello\n"
     ]
    }
   ],
   "source": [
    "def print_Hello():\n",
    "    print(\"Hello\")\n",
    "print_Hello()"
   ]
  },
  {
   "cell_type": "code",
   "execution_count": 2,
   "id": "05a3ccd7",
   "metadata": {},
   "outputs": [
    {
     "data": {
      "text/plain": [
       "30"
      ]
     },
     "execution_count": 2,
     "metadata": {},
     "output_type": "execute_result"
    }
   ],
   "source": [
    "def return_value(n1,n2):\n",
    "    return n1+n2\n",
    "res=return_value(10,20)\n",
    "res"
   ]
  },
  {
   "cell_type": "code",
   "execution_count": 7,
   "id": "4da5096a",
   "metadata": {},
   "outputs": [
    {
     "data": {
      "text/plain": [
       "'ManojMaddy'"
      ]
     },
     "execution_count": 7,
     "metadata": {},
     "output_type": "execute_result"
    }
   ],
   "source": [
    "def return_value(n1,n2):\n",
    "   #this is the way of adding multiline coment inside a fun\n",
    "    '''\n",
    "    as python is dinamically typed language it will alwyas decide the type of parameter \n",
    "    based on argument passed\n",
    "    '''\n",
    "    return n1+n2\n",
    "res=return_value(\"Manoj\",\"Maddy\")\n",
    "res"
   ]
  },
  {
   "cell_type": "code",
   "execution_count": null,
   "id": "ee834730",
   "metadata": {},
   "outputs": [],
   "source": []
  }
 ],
 "metadata": {
  "kernelspec": {
   "display_name": "Python 3",
   "language": "python",
   "name": "python3"
  },
  "language_info": {
   "codemirror_mode": {
    "name": "ipython",
    "version": 3
   },
   "file_extension": ".py",
   "mimetype": "text/x-python",
   "name": "python",
   "nbconvert_exporter": "python",
   "pygments_lexer": "ipython3",
   "version": "3.8.8"
  }
 },
 "nbformat": 4,
 "nbformat_minor": 5
}
