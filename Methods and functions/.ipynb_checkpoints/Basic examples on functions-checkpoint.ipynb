{
 "cells": [
  {
   "cell_type": "code",
   "execution_count": 1,
   "id": "f440d9d8",
   "metadata": {},
   "outputs": [
    {
     "data": {
      "text/plain": [
       "True"
      ]
     },
     "execution_count": 1,
     "metadata": {},
     "output_type": "execute_result"
    }
   ],
   "source": [
    "#fuction that return true if the number is odd\n",
    "def check_odd(num):\n",
    "    return num%2==1\n",
    "result=check_odd(11)\n",
    "result"
   ]
  },
  {
   "cell_type": "code",
   "execution_count": 2,
   "id": "4be6bf20",
   "metadata": {},
   "outputs": [],
   "source": [
    "#fuction that return true if the number is odd and false if it is even\n",
    "def check_odd(num):\n",
    "    if num%2==1:\n",
    "        return True\n",
    "    else:\n",
    "        return False"
   ]
  },
  {
   "cell_type": "code",
   "execution_count": 3,
   "id": "40095721",
   "metadata": {},
   "outputs": [
    {
     "data": {
      "text/plain": [
       "False"
      ]
     },
     "execution_count": 3,
     "metadata": {},
     "output_type": "execute_result"
    }
   ],
   "source": [
    "check_odd(2)"
   ]
  },
  {
   "cell_type": "code",
   "execution_count": 4,
   "id": "d27bb543",
   "metadata": {},
   "outputs": [
    {
     "name": "stdout",
     "output_type": "stream",
     "text": [
      "Enter the number of element u want to insert into a list6\n",
      "Enter 6 elements into the list\n",
      "1\n",
      "2\n",
      "3\n",
      "4\n",
      "5\n",
      "6\n"
     ]
    },
    {
     "data": {
      "text/plain": [
       "[2, 4, 6]"
      ]
     },
     "execution_count": 4,
     "metadata": {},
     "output_type": "execute_result"
    }
   ],
   "source": [
    "#function that returns a list off all even numbers by taking a list as an input\n",
    "def even_list_genertion(list1):\n",
    "    even=[]\n",
    "    for item in list1:\n",
    "        if item%2==0:\n",
    "            even.append(item)\n",
    "    return even\n",
    "l1=[]\n",
    "n=int(input('Enter the number of element u want to insert into a list'))\n",
    "print(\"Enter {} elements into the list\".format(n))\n",
    "for i in range(0,n):\n",
    "    item=int(input())\n",
    "    l1.append(item)\n",
    "even_list_genertion(l1)"
   ]
  },
  {
   "cell_type": "code",
   "execution_count": null,
   "id": "c641e21e",
   "metadata": {},
   "outputs": [],
   "source": []
  }
 ],
 "metadata": {
  "kernelspec": {
   "display_name": "Python 3",
   "language": "python",
   "name": "python3"
  },
  "language_info": {
   "codemirror_mode": {
    "name": "ipython",
    "version": 3
   },
   "file_extension": ".py",
   "mimetype": "text/x-python",
   "name": "python",
   "nbconvert_exporter": "python",
   "pygments_lexer": "ipython3",
   "version": "3.8.8"
  }
 },
 "nbformat": 4,
 "nbformat_minor": 5
}
