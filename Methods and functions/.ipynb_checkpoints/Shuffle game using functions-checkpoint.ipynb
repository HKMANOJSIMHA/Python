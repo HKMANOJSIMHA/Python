{
 "cells": [
  {
   "cell_type": "code",
   "execution_count": 4,
   "id": "dc26683e",
   "metadata": {},
   "outputs": [
    {
     "name": "stdout",
     "output_type": "stream",
     "text": [
      "Enter your guess position i.e\n",
      "0-first cup\n",
      "1-second cup\n",
      "2-third cup\n",
      "1\n",
      "['O', '', '']\n",
      "Hard luck try again\n",
      "Enter your guess position i.e\n",
      "0-first cup\n",
      "1-second cup\n",
      "2-third cup\n",
      "1\n",
      "['', '', 'O']\n",
      "Hard luck try again\n",
      "Enter your guess position i.e\n",
      "0-first cup\n",
      "1-second cup\n",
      "2-third cup\n",
      "1\n",
      "['', 'O', '']\n",
      "Congrats its a correct guess\n"
     ]
    }
   ],
   "source": [
    "from random import shuffle\n",
    "balls=['','','O']\n",
    "\n",
    "def shuffle_list(balls):\n",
    "    shuffle(balls)\n",
    "    return balls\n",
    "\n",
    "def player_guess():\n",
    "    n=3\n",
    "    while n>2:\n",
    "        n=int(input(\"Enter your guess position i.e\\n0-first cup\\n1-second cup\\n2-third cup\\n\"))\n",
    "    return n\n",
    "\n",
    "def game_logic(ball,guess):\n",
    "    if ball[guess]=='O':\n",
    "        print(ball)\n",
    "        return True\n",
    "    else:\n",
    "        print(ball)\n",
    "        print(\"Hard luck try again\")\n",
    "        return False\n",
    "result=False\n",
    "while result==False:\n",
    "    ball=shuffle_list(balls)\n",
    "    guess=player_guess()\n",
    "    result=game_logic(ball,guess)\n",
    "else:\n",
    "    print(\"Congrats its a correct guess\")\n",
    "\n",
    "\n",
    "    "
   ]
  },
  {
   "cell_type": "code",
   "execution_count": null,
   "id": "2b96d8c1",
   "metadata": {},
   "outputs": [],
   "source": []
  }
 ],
 "metadata": {
  "kernelspec": {
   "display_name": "Python 3",
   "language": "python",
   "name": "python3"
  },
  "language_info": {
   "codemirror_mode": {
    "name": "ipython",
    "version": 3
   },
   "file_extension": ".py",
   "mimetype": "text/x-python",
   "name": "python",
   "nbconvert_exporter": "python",
   "pygments_lexer": "ipython3",
   "version": "3.8.8"
  }
 },
 "nbformat": 4,
 "nbformat_minor": 5
}
