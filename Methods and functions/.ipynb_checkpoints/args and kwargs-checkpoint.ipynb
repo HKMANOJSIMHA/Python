{
 "cells": [
  {
   "cell_type": "code",
   "execution_count": 2,
   "id": "89b90428",
   "metadata": {},
   "outputs": [
    {
     "name": "stdout",
     "output_type": "stream",
     "text": [
      "Sum is:21\n"
     ]
    }
   ],
   "source": [
    "def find_sum(*args):\n",
    "    Sum=sum(args)\n",
    "    print(\"Sum is:{}\".format(Sum))\n",
    "find_sum(1,2,3,4,5,6)"
   ]
  },
  {
   "cell_type": "code",
   "execution_count": 6,
   "id": "338c3cca",
   "metadata": {},
   "outputs": [
    {
     "name": "stdout",
     "output_type": "stream",
     "text": [
      "fruit ->> Orange\n",
      "Food ->> Egg\n",
      "Animal ->> Elephant\n"
     ]
    }
   ],
   "source": [
    "def pairs(**kwargs):\n",
    "    for item,value in kwargs.items():\n",
    "        print(\"{} ->> {}\".format(item,value))\n",
    "pairs(fruit='Orange',Food='Egg',Animal='Elephant')\n",
    "    "
   ]
  },
  {
   "cell_type": "code",
   "execution_count": 7,
   "id": "c2dde061",
   "metadata": {},
   "outputs": [
    {
     "name": "stdout",
     "output_type": "stream",
     "text": [
      "Sum is:21\n",
      "fruit ->> Orange\n",
      "Food ->> Egg\n",
      "Animal ->> Elephant\n"
     ]
    }
   ],
   "source": [
    "def myfunc(*args,**kwargs):\n",
    "    Sum=sum(args)\n",
    "    print(\"Sum is:{}\".format(Sum))\n",
    "    for item,value in kwargs.items():\n",
    "        print(\"{} ->> {}\".format(item,value))\n",
    "myfunc(1,2,3,4,5,6,fruit='Orange',Food='Egg',Animal='Elephant')\n"
   ]
  },
  {
   "cell_type": "code",
   "execution_count": null,
   "id": "3a1cda0f",
   "metadata": {},
   "outputs": [],
   "source": []
  }
 ],
 "metadata": {
  "kernelspec": {
   "display_name": "Python 3",
   "language": "python",
   "name": "python3"
  },
  "language_info": {
   "codemirror_mode": {
    "name": "ipython",
    "version": 3
   },
   "file_extension": ".py",
   "mimetype": "text/x-python",
   "name": "python",
   "nbconvert_exporter": "python",
   "pygments_lexer": "ipython3",
   "version": "3.8.8"
  }
 },
 "nbformat": 4,
 "nbformat_minor": 5
}
