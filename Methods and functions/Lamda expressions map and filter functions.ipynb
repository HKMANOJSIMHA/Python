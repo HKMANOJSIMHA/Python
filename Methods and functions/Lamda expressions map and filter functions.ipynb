{
 "cells": [
  {
   "cell_type": "code",
   "execution_count": 4,
   "id": "a509951d",
   "metadata": {},
   "outputs": [],
   "source": [
    "def sum_of_number(n):\n",
    "    return n*(n+1)//2"
   ]
  },
  {
   "cell_type": "code",
   "execution_count": 5,
   "id": "2e5813d1",
   "metadata": {},
   "outputs": [],
   "source": [
    "l1=[1,2,3,4,5,6,7]"
   ]
  },
  {
   "cell_type": "code",
   "execution_count": 6,
   "id": "0839f181",
   "metadata": {},
   "outputs": [
    {
     "data": {
      "text/plain": [
       "[1, 3, 6, 10, 15, 21, 28]"
      ]
     },
     "execution_count": 6,
     "metadata": {},
     "output_type": "execute_result"
    }
   ],
   "source": [
    "list(map(sum_of_number,l1))"
   ]
  },
  {
   "cell_type": "code",
   "execution_count": 7,
   "id": "5bd775bc",
   "metadata": {},
   "outputs": [],
   "source": [
    "def return_capital_form(name):\n",
    "    return name.upper()"
   ]
  },
  {
   "cell_type": "code",
   "execution_count": 8,
   "id": "16857bfd",
   "metadata": {},
   "outputs": [
    {
     "data": {
      "text/plain": [
       "['MANOJ', 'MANNU', 'ABHI', 'ANIRUDH']"
      ]
     },
     "execution_count": 8,
     "metadata": {},
     "output_type": "execute_result"
    }
   ],
   "source": [
    "names=[\"Manoj\",\"Mannu\",\"Abhi\",\"Anirudh\"]\n",
    "l2=list(map(return_capital_form,names))\n",
    "l2"
   ]
  },
  {
   "cell_type": "code",
   "execution_count": 9,
   "id": "0873ac08",
   "metadata": {},
   "outputs": [
    {
     "name": "stdout",
     "output_type": "stream",
     "text": [
      "MANOJ\n",
      "MANNU\n",
      "ABHI\n",
      "ANIRUDH\n"
     ]
    }
   ],
   "source": [
    "for name in map(return_capital_form,names):\n",
    "    print(name)"
   ]
  },
  {
   "cell_type": "code",
   "execution_count": 10,
   "id": "3fcc1525",
   "metadata": {},
   "outputs": [],
   "source": [
    "def check_first(name):\n",
    "    return name[0].lower()=='m'\n",
    "    "
   ]
  },
  {
   "cell_type": "code",
   "execution_count": 11,
   "id": "7d4d65b8",
   "metadata": {},
   "outputs": [],
   "source": [
    "names=[\"Manoj\",\"Mannu\",\"Abhi\",\"Anirudh\"]"
   ]
  },
  {
   "cell_type": "code",
   "execution_count": 12,
   "id": "3f77d722",
   "metadata": {},
   "outputs": [
    {
     "data": {
      "text/plain": [
       "['Manoj', 'Mannu']"
      ]
     },
     "execution_count": 12,
     "metadata": {},
     "output_type": "execute_result"
    }
   ],
   "source": [
    "list(filter(check_first,names))"
   ]
  },
  {
   "cell_type": "code",
   "execution_count": 13,
   "id": "06483e23",
   "metadata": {},
   "outputs": [
    {
     "data": {
      "text/plain": [
       "[1, 3, 6, 10, 15, 21, 28]"
      ]
     },
     "execution_count": 13,
     "metadata": {},
     "output_type": "execute_result"
    }
   ],
   "source": [
    "#conversion of above functions to lamda expressions\n",
    "list(map(lambda n:n*(n+1)//2,l1))"
   ]
  },
  {
   "cell_type": "code",
   "execution_count": 14,
   "id": "e35e3da2",
   "metadata": {},
   "outputs": [
    {
     "data": {
      "text/plain": [
       "['MANOJ', 'MANNU', 'ABHI', 'ANIRUDH']"
      ]
     },
     "execution_count": 14,
     "metadata": {},
     "output_type": "execute_result"
    }
   ],
   "source": [
    "list(map(lambda name:name.upper(),names))"
   ]
  },
  {
   "cell_type": "code",
   "execution_count": 15,
   "id": "d64cd25d",
   "metadata": {},
   "outputs": [
    {
     "data": {
      "text/plain": [
       "['Manoj', 'Mannu']"
      ]
     },
     "execution_count": 15,
     "metadata": {},
     "output_type": "execute_result"
    }
   ],
   "source": [
    "list(filter(lambda name:name[0].lower()=='m',names))"
   ]
  },
  {
   "cell_type": "code",
   "execution_count": null,
   "id": "d2ef276c",
   "metadata": {},
   "outputs": [],
   "source": []
  }
 ],
 "metadata": {
  "kernelspec": {
   "display_name": "Python 3",
   "language": "python",
   "name": "python3"
  },
  "language_info": {
   "codemirror_mode": {
    "name": "ipython",
    "version": 3
   },
   "file_extension": ".py",
   "mimetype": "text/x-python",
   "name": "python",
   "nbconvert_exporter": "python",
   "pygments_lexer": "ipython3",
   "version": "3.8.8"
  }
 },
 "nbformat": 4,
 "nbformat_minor": 5
}
