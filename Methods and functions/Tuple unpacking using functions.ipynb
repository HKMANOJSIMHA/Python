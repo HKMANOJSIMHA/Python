{
 "cells": [
  {
   "cell_type": "code",
   "execution_count": 4,
   "id": "c0bdee5d",
   "metadata": {},
   "outputs": [],
   "source": [
    "l1=[(\"Manoj\",98),(\"Abhi\",97),(\"Ani\",99)]\n"
   ]
  },
  {
   "cell_type": "code",
   "execution_count": 6,
   "id": "0d364b26",
   "metadata": {},
   "outputs": [
    {
     "name": "stdout",
     "output_type": "stream",
     "text": [
      "The highest marks is scored by Ani and the marks scored is 99\n"
     ]
    }
   ],
   "source": [
    "def check_highest_score(l1):\n",
    "    max_score=0\n",
    "    name=''\n",
    "    for student,marks in l1:\n",
    "        if marks>=max_score:\n",
    "            max_score=marks\n",
    "            name=student\n",
    "        else:\n",
    "            pass\n",
    "    return (name,max_score)\n",
    "std,score=check_highest_score(l1)\n",
    "print(f'The highest marks is scored by {std} and the marks scored is {score}')"
   ]
  },
  {
   "cell_type": "code",
   "execution_count": null,
   "id": "e8b56003",
   "metadata": {},
   "outputs": [],
   "source": []
  }
 ],
 "metadata": {
  "kernelspec": {
   "display_name": "Python 3",
   "language": "python",
   "name": "python3"
  },
  "language_info": {
   "codemirror_mode": {
    "name": "ipython",
    "version": 3
   },
   "file_extension": ".py",
   "mimetype": "text/x-python",
   "name": "python",
   "nbconvert_exporter": "python",
   "pygments_lexer": "ipython3",
   "version": "3.8.8"
  }
 },
 "nbformat": 4,
 "nbformat_minor": 5
}
