{
 "cells": [
  {
   "cell_type": "code",
   "execution_count": 7,
   "id": "857f50a9",
   "metadata": {},
   "outputs": [],
   "source": [
    "class student():\n",
    "    #it is class object attribute which is common for all instance of the class\n",
    "    college=\"SDMCET\"\n",
    "    \n",
    "    def __init__(self,name,div,fees):\n",
    "        self.name=name\n",
    "        self.div=div\n",
    "        self.fees=fees\n",
    "        self.sem=4\n",
    "    #marks =0 specify that if no parameter is passed into the fonction then the default value is 0\n",
    "    def display_details(self,marks=0):\n",
    "        print(f'College-{student.college}\\nName-{self.name}\\nDivision-{self.div}\\nFees-{self.fees}\\nSem-{self.sem}\\nMarks-{marks}')\n",
    "    "
   ]
  },
  {
   "cell_type": "code",
   "execution_count": 8,
   "id": "f9059fa3",
   "metadata": {},
   "outputs": [],
   "source": [
    "std=student(\"Manoj\",'A',4000)"
   ]
  },
  {
   "cell_type": "code",
   "execution_count": 9,
   "id": "980b51fa",
   "metadata": {},
   "outputs": [
    {
     "name": "stdout",
     "output_type": "stream",
     "text": [
      "College-SDMCET\n",
      "Name-Manoj\n",
      "Division-A\n",
      "Fees-4000\n",
      "Sem-4\n",
      "Marks-100\n"
     ]
    }
   ],
   "source": [
    "std.display_details(100)"
   ]
  },
  {
   "cell_type": "code",
   "execution_count": 12,
   "id": "18243008",
   "metadata": {},
   "outputs": [],
   "source": [
    "class Circle():\n",
    "    pi=3.142\n",
    "    def __init__(self,side):\n",
    "        self.side=side\n",
    "        self.area=Circle.pi*side**2\n",
    "    \n",
    "    def circuference(self):\n",
    "        return 2*Circle.pi*self.side"
   ]
  },
  {
   "cell_type": "code",
   "execution_count": 13,
   "id": "103f3b7a",
   "metadata": {},
   "outputs": [],
   "source": [
    "c1=Circle(20)"
   ]
  },
  {
   "cell_type": "code",
   "execution_count": 14,
   "id": "c35b5034",
   "metadata": {},
   "outputs": [
    {
     "data": {
      "text/plain": [
       "1256.8"
      ]
     },
     "execution_count": 14,
     "metadata": {},
     "output_type": "execute_result"
    }
   ],
   "source": [
    "c1.area"
   ]
  },
  {
   "cell_type": "code",
   "execution_count": 16,
   "id": "57118e01",
   "metadata": {},
   "outputs": [
    {
     "data": {
      "text/plain": [
       "125.67999999999999"
      ]
     },
     "execution_count": 16,
     "metadata": {},
     "output_type": "execute_result"
    }
   ],
   "source": [
    "c1.circuference()"
   ]
  },
  {
   "cell_type": "code",
   "execution_count": 17,
   "id": "0015a690",
   "metadata": {},
   "outputs": [
    {
     "data": {
      "text/plain": [
       "20"
      ]
     },
     "execution_count": 17,
     "metadata": {},
     "output_type": "execute_result"
    }
   ],
   "source": [
    "c1.side"
   ]
  },
  {
   "cell_type": "code",
   "execution_count": 18,
   "id": "208491c5",
   "metadata": {},
   "outputs": [
    {
     "data": {
      "text/plain": [
       "3.142"
      ]
     },
     "execution_count": 18,
     "metadata": {},
     "output_type": "execute_result"
    }
   ],
   "source": [
    "c1.pi"
   ]
  },
  {
   "cell_type": "code",
   "execution_count": 19,
   "id": "b22fd98e",
   "metadata": {},
   "outputs": [
    {
     "data": {
      "text/plain": [
       "__main__.Circle"
      ]
     },
     "execution_count": 19,
     "metadata": {},
     "output_type": "execute_result"
    }
   ],
   "source": [
    "type(c1)"
   ]
  },
  {
   "cell_type": "code",
   "execution_count": null,
   "id": "8130c72d",
   "metadata": {},
   "outputs": [],
   "source": []
  }
 ],
 "metadata": {
  "kernelspec": {
   "display_name": "Python 3",
   "language": "python",
   "name": "python3"
  },
  "language_info": {
   "codemirror_mode": {
    "name": "ipython",
    "version": 3
   },
   "file_extension": ".py",
   "mimetype": "text/x-python",
   "name": "python",
   "nbconvert_exporter": "python",
   "pygments_lexer": "ipython3",
   "version": "3.8.8"
  }
 },
 "nbformat": 4,
 "nbformat_minor": 5
}
