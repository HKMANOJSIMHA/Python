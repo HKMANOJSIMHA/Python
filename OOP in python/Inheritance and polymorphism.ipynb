{
 "cells": [
  {
   "cell_type": "code",
   "execution_count": 16,
   "id": "8b7c0097",
   "metadata": {},
   "outputs": [],
   "source": [
    "#Parent class\n",
    "class University():\n",
    "    def __init__(self,name,college_code):\n",
    "        self.college_code=college_code\n",
    "        self.name=name\n",
    "    \n",
    "    def display_details(self):\n",
    "        print(f\"College name: {self.name}\\nCollege code: {self.college_code}\")\n",
    "        "
   ]
  },
  {
   "cell_type": "code",
   "execution_count": 17,
   "id": "e31396f7",
   "metadata": {},
   "outputs": [],
   "source": [
    "#inheritance\n",
    "class sdm(University):\n",
    "    def __init__(self,name,code):\n",
    "        self.name=name\n",
    "        self.code=code\n",
    "        University.__init__(self,self.name,self.code)\n",
    "        \n",
    "    def get_details(self):\n",
    "        University.display_details(self)"
   ]
  },
  {
   "cell_type": "code",
   "execution_count": 18,
   "id": "37f30b3a",
   "metadata": {},
   "outputs": [],
   "source": [
    "s1=sdm(\"SDM\",1234)"
   ]
  },
  {
   "cell_type": "code",
   "execution_count": 19,
   "id": "10a9b087",
   "metadata": {},
   "outputs": [
    {
     "name": "stdout",
     "output_type": "stream",
     "text": [
      "College name: SDM\n",
      "College code: 1234\n"
     ]
    }
   ],
   "source": [
    "s1.get_details()"
   ]
  },
  {
   "cell_type": "code",
   "execution_count": 20,
   "id": "e0532207",
   "metadata": {},
   "outputs": [
    {
     "name": "stdout",
     "output_type": "stream",
     "text": [
      "College name: SDM\n",
      "College code: 1234\n"
     ]
    }
   ],
   "source": [
    "s1.display_details()"
   ]
  },
  {
   "cell_type": "code",
   "execution_count": 31,
   "id": "6e67de46",
   "metadata": {},
   "outputs": [],
   "source": [
    "class cat():\n",
    "    def __init__(self,name):\n",
    "        self.name=name\n",
    "    #polymorphism    \n",
    "    def sound(self):\n",
    "        print(f\"My name is {self.name} and i am a cat i say meow\")"
   ]
  },
  {
   "cell_type": "code",
   "execution_count": 32,
   "id": "c12c8d85",
   "metadata": {},
   "outputs": [],
   "source": [
    "class dog():\n",
    "    def __init__(self,name):\n",
    "        self.name=name\n",
    "     #polymorphism   \n",
    "    def sound(self):\n",
    "        print(f\"My name is {self.name} and i am a dog i say boww\")"
   ]
  },
  {
   "cell_type": "code",
   "execution_count": 33,
   "id": "773e89a2",
   "metadata": {},
   "outputs": [],
   "source": [
    "c1=cat(\"Pittu\")"
   ]
  },
  {
   "cell_type": "code",
   "execution_count": 34,
   "id": "151aef52",
   "metadata": {},
   "outputs": [],
   "source": [
    "d1=dog(\"Tommy\")"
   ]
  },
  {
   "cell_type": "code",
   "execution_count": 35,
   "id": "d4a72654",
   "metadata": {},
   "outputs": [
    {
     "name": "stdout",
     "output_type": "stream",
     "text": [
      "My name is Pittu and i am a cat i say meow\n"
     ]
    }
   ],
   "source": [
    "c1.sound()"
   ]
  },
  {
   "cell_type": "code",
   "execution_count": 36,
   "id": "89ad0870",
   "metadata": {},
   "outputs": [
    {
     "name": "stdout",
     "output_type": "stream",
     "text": [
      "My name is Tommy and i am a dog i say boww\n"
     ]
    }
   ],
   "source": [
    "d1.sound()"
   ]
  },
  {
   "cell_type": "code",
   "execution_count": null,
   "id": "438e49ec",
   "metadata": {},
   "outputs": [],
   "source": []
  }
 ],
 "metadata": {
  "kernelspec": {
   "display_name": "Python 3",
   "language": "python",
   "name": "python3"
  },
  "language_info": {
   "codemirror_mode": {
    "name": "ipython",
    "version": 3
   },
   "file_extension": ".py",
   "mimetype": "text/x-python",
   "name": "python",
   "nbconvert_exporter": "python",
   "pygments_lexer": "ipython3",
   "version": "3.8.8"
  }
 },
 "nbformat": 4,
 "nbformat_minor": 5
}
