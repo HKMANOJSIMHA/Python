{
 "cells": [
  {
   "cell_type": "code",
   "execution_count": 4,
   "id": "315ac46e",
   "metadata": {},
   "outputs": [],
   "source": [
    "class Student():\n",
    "    def __init__(self,name,Eid,fees):\n",
    "        self.name=name\n",
    "        self.Eid=Eid\n",
    "        self.fees=fees"
   ]
  },
  {
   "cell_type": "code",
   "execution_count": 6,
   "id": "fbcae7c9",
   "metadata": {},
   "outputs": [],
   "source": [
    "std1=Student('Manoj',2001,20000)"
   ]
  },
  {
   "cell_type": "code",
   "execution_count": 7,
   "id": "f0c1be16",
   "metadata": {},
   "outputs": [
    {
     "data": {
      "text/plain": [
       "2001"
      ]
     },
     "execution_count": 7,
     "metadata": {},
     "output_type": "execute_result"
    }
   ],
   "source": [
    "std1.Eid"
   ]
  },
  {
   "cell_type": "code",
   "execution_count": 8,
   "id": "d93ff1b5",
   "metadata": {},
   "outputs": [
    {
     "data": {
      "text/plain": [
       "20000"
      ]
     },
     "execution_count": 8,
     "metadata": {},
     "output_type": "execute_result"
    }
   ],
   "source": [
    "std1.fees"
   ]
  },
  {
   "cell_type": "code",
   "execution_count": 9,
   "id": "56b68f74",
   "metadata": {},
   "outputs": [
    {
     "data": {
      "text/plain": [
       "'Manoj'"
      ]
     },
     "execution_count": 9,
     "metadata": {},
     "output_type": "execute_result"
    }
   ],
   "source": [
    "std1.name"
   ]
  },
  {
   "cell_type": "code",
   "execution_count": 10,
   "id": "87cd6c77",
   "metadata": {},
   "outputs": [
    {
     "data": {
      "text/plain": [
       "__main__.Student"
      ]
     },
     "execution_count": 10,
     "metadata": {},
     "output_type": "execute_result"
    }
   ],
   "source": [
    "type(std1)"
   ]
  },
  {
   "cell_type": "code",
   "execution_count": null,
   "id": "47d6e34f",
   "metadata": {},
   "outputs": [],
   "source": []
  }
 ],
 "metadata": {
  "kernelspec": {
   "display_name": "Python 3",
   "language": "python",
   "name": "python3"
  },
  "language_info": {
   "codemirror_mode": {
    "name": "ipython",
    "version": 3
   },
   "file_extension": ".py",
   "mimetype": "text/x-python",
   "name": "python",
   "nbconvert_exporter": "python",
   "pygments_lexer": "ipython3",
   "version": "3.8.8"
  }
 },
 "nbformat": 4,
 "nbformat_minor": 5
}
