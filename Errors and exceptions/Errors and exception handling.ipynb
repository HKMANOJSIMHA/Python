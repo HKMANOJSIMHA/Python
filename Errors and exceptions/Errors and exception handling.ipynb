{
 "cells": [
  {
   "cell_type": "code",
   "execution_count": 1,
   "id": "d8549d60",
   "metadata": {},
   "outputs": [],
   "source": [
    "def add_int(n1,n2):\n",
    "    try:\n",
    "        result=sum((n1,n2))\n",
    "    except:\n",
    "        print(\"Sorry u have not given proper input\")\n",
    "    else:\n",
    "        print(f\"The sum of {n1} and {n2} is {n1+n2}\")\n",
    "    finally:\n",
    "        print(\"Thankyou!!\")\n",
    "    "
   ]
  },
  {
   "cell_type": "code",
   "execution_count": 2,
   "id": "bce9c5c8",
   "metadata": {},
   "outputs": [
    {
     "name": "stdout",
     "output_type": "stream",
     "text": [
      "The sum of 10 and 20 is 30\n",
      "Thankyou!!\n"
     ]
    }
   ],
   "source": [
    "add_int(10,20)"
   ]
  },
  {
   "cell_type": "code",
   "execution_count": 3,
   "id": "9a77046e",
   "metadata": {},
   "outputs": [
    {
     "name": "stdout",
     "output_type": "stream",
     "text": [
      "Sorry u have not given proper input\n",
      "Thankyou!!\n"
     ]
    }
   ],
   "source": [
    "add_int(10,'Manoj')"
   ]
  },
  {
   "cell_type": "code",
   "execution_count": 4,
   "id": "3a496a44",
   "metadata": {},
   "outputs": [],
   "source": [
    "def ask_int():\n",
    "    while True:\n",
    "        try:\n",
    "            inp=int(input(\"Heyy enter a number:\"))\n",
    "        except:\n",
    "            print(\"Sorrry that's not a number\")\n",
    "        else:\n",
    "            print(f\"Thank you!! you have entered {inp}\")\n",
    "            break"
   ]
  },
  {
   "cell_type": "code",
   "execution_count": 5,
   "id": "b3b79c53",
   "metadata": {},
   "outputs": [
    {
     "name": "stdout",
     "output_type": "stream",
     "text": [
      "Heyy enter a number:manoj\n",
      "Sorrry that's not a number\n",
      "Heyy enter a number:10\n",
      "Thank you!! you have entered 10\n"
     ]
    }
   ],
   "source": [
    "ask_int()"
   ]
  }
 ],
 "metadata": {
  "kernelspec": {
   "display_name": "Python 3",
   "language": "python",
   "name": "python3"
  },
  "language_info": {
   "codemirror_mode": {
    "name": "ipython",
    "version": 3
   },
   "file_extension": ".py",
   "mimetype": "text/x-python",
   "name": "python",
   "nbconvert_exporter": "python",
   "pygments_lexer": "ipython3",
   "version": "3.8.8"
  }
 },
 "nbformat": 4,
 "nbformat_minor": 5
}
