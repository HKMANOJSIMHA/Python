{
 "cells": [
  {
   "cell_type": "code",
   "execution_count": 10,
   "id": "28c02130",
   "metadata": {},
   "outputs": [
    {
     "data": {
      "text/plain": [
       "'python programming language'"
      ]
     },
     "execution_count": 10,
     "metadata": {},
     "output_type": "execute_result"
    }
   ],
   "source": [
    "x='I am learning python programming language'\n",
    "x[14::]"
   ]
  },
  {
   "cell_type": "code",
   "execution_count": 21,
   "id": "e0f638b3",
   "metadata": {},
   "outputs": [
    {
     "data": {
      "text/plain": [
       "'fero ieelbuylin o ieelbtna o'"
      ]
     },
     "execution_count": 21,
     "metadata": {},
     "output_type": "execute_result"
    }
   ],
   "source": [
    "x='You cannot believe in god untill you believe in yourself'\n",
    "x[::-2]"
   ]
  },
  {
   "cell_type": "code",
   "execution_count": 33,
   "id": "fac8b424",
   "metadata": {},
   "outputs": [
    {
     "name": "stdout",
     "output_type": "stream",
     "text": [
      "Enter the percentage:102\n",
      "Invali Input\n"
     ]
    }
   ],
   "source": [
    "n=int(input('Enter the percentage:'))\n",
    "if n>=90 and n<=100:\n",
    "    print('S')\n",
    "elif n<90 and n>=75:\n",
    "    print('A')\n",
    "elif n<75 and n>=60:\n",
    "    print('B')\n",
    "elif n<60 and n>=50:\n",
    "    print('C')\n",
    "elif n<50 and n>=45:\n",
    "    print('D')\n",
    "elif n<45 and n>=40:\n",
    "    print('E')\n",
    "elif n<40:\n",
    "    print('F')\n",
    "elif n>100 or n<0:\n",
    "    print('Invali Input')\n",
    "    "
   ]
  },
  {
   "cell_type": "code",
   "execution_count": 37,
   "id": "53167d03",
   "metadata": {},
   "outputs": [
    {
     "name": "stdout",
     "output_type": "stream",
     "text": [
      "Enter a number14\n",
      "It is not prime\n"
     ]
    }
   ],
   "source": [
    "n=int(input('Enter a number'))\n",
    "if n>1:\n",
    "    i=2\n",
    "    while i<n:\n",
    "        if n%i==0:\n",
    "            print('It is not prime')\n",
    "            break\n",
    "        i=i+1\n",
    "    else:\n",
    "        print('It is prime')\n",
    "else:\n",
    "     print('It is not prime')"
   ]
  },
  {
   "cell_type": "code",
   "execution_count": 2,
   "id": "30296bc4",
   "metadata": {},
   "outputs": [
    {
     "data": {
      "text/plain": [
       "'lahen'"
      ]
     },
     "execution_count": 2,
     "metadata": {},
     "output_type": "execute_result"
    }
   ],
   "source": [
    "s=\"nehal\"\n",
    "s[::-1]"
   ]
  },
  {
   "cell_type": "code",
   "execution_count": 9,
   "id": "9ccb284b",
   "metadata": {},
   "outputs": [
    {
     "name": "stdout",
     "output_type": "stream",
     "text": [
      "10\n",
      "9\n",
      "8\n",
      "7\n",
      "6\n",
      "5\n",
      "4\n",
      "3\n",
      "2\n"
     ]
    }
   ],
   "source": [
    "for i in range(10,1,-1):\n",
    "    print(i)"
   ]
  },
  {
   "cell_type": "code",
   "execution_count": 10,
   "id": "8fddcb2e",
   "metadata": {},
   "outputs": [
    {
     "name": "stdout",
     "output_type": "stream",
     "text": [
      "0\n",
      "1\n",
      "2\n",
      "3\n",
      "4\n"
     ]
    }
   ],
   "source": [
    "for i in range(1,5):\n",
    "    print(i)"
   ]
  },
  {
   "cell_type": "code",
   "execution_count": 12,
   "id": "66160b5d",
   "metadata": {},
   "outputs": [
    {
     "name": "stdout",
     "output_type": "stream",
     "text": [
      "5\n",
      "4\n",
      "3\n",
      "2\n"
     ]
    }
   ],
   "source": [
    "for i in range(5,1,-1):\n",
    "    print(i)"
   ]
  },
  {
   "cell_type": "code",
   "execution_count": null,
   "id": "4950762f",
   "metadata": {},
   "outputs": [],
   "source": []
  }
 ],
 "metadata": {
  "kernelspec": {
   "display_name": "Python 3",
   "language": "python",
   "name": "python3"
  },
  "language_info": {
   "codemirror_mode": {
    "name": "ipython",
    "version": 3
   },
   "file_extension": ".py",
   "mimetype": "text/x-python",
   "name": "python",
   "nbconvert_exporter": "python",
   "pygments_lexer": "ipython3",
   "version": "3.8.8"
  }
 },
 "nbformat": 4,
 "nbformat_minor": 5
}
