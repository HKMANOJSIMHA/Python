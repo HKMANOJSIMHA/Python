{
 "cells": [
  {
   "cell_type": "code",
   "execution_count": 1,
   "id": "5bd29e7d",
   "metadata": {},
   "outputs": [],
   "source": [
    "name=\"Manoj\""
   ]
  },
  {
   "cell_type": "code",
   "execution_count": 3,
   "id": "364b8746",
   "metadata": {},
   "outputs": [],
   "source": [
    "#name[0]='P'--> this is not supported by the python as string are immutable i.e they cannot be changed"
   ]
  },
  {
   "cell_type": "code",
   "execution_count": 4,
   "id": "0bbecc94",
   "metadata": {},
   "outputs": [],
   "source": [
    "concat='P'+name[1:]  #concatenation"
   ]
  },
  {
   "cell_type": "code",
   "execution_count": 5,
   "id": "af280a89",
   "metadata": {},
   "outputs": [
    {
     "data": {
      "text/plain": [
       "'Panoj'"
      ]
     },
     "execution_count": 5,
     "metadata": {},
     "output_type": "execute_result"
    }
   ],
   "source": [
    "concat"
   ]
  },
  {
   "cell_type": "code",
   "execution_count": 6,
   "id": "3ef139e5",
   "metadata": {},
   "outputs": [
    {
     "data": {
      "text/plain": [
       "'Hii Manoj'"
      ]
     },
     "execution_count": 6,
     "metadata": {},
     "output_type": "execute_result"
    }
   ],
   "source": [
    "\"Hii \"+name"
   ]
  },
  {
   "cell_type": "code",
   "execution_count": 11,
   "id": "937e69f9",
   "metadata": {},
   "outputs": [],
   "source": [
    "name=name+\" hii\""
   ]
  },
  {
   "cell_type": "code",
   "execution_count": 15,
   "id": "7bd0eb33",
   "metadata": {},
   "outputs": [],
   "source": [
    "name=\"manoj\""
   ]
  },
  {
   "cell_type": "code",
   "execution_count": 16,
   "id": "eb06202c",
   "metadata": {},
   "outputs": [
    {
     "data": {
      "text/plain": [
       "'manojmanojmanojmanojmanoj'"
      ]
     },
     "execution_count": 16,
     "metadata": {},
     "output_type": "execute_result"
    }
   ],
   "source": [
    "name*5   #string will be multiplied 5 times"
   ]
  },
  {
   "cell_type": "markdown",
   "id": "67a11208",
   "metadata": {},
   "source": [
    "String built in functions:"
   ]
  },
  {
   "cell_type": "code",
   "execution_count": 17,
   "id": "db4577a4",
   "metadata": {},
   "outputs": [],
   "source": [
    "x=\"Mannu\""
   ]
  },
  {
   "cell_type": "code",
   "execution_count": 18,
   "id": "33e74884",
   "metadata": {},
   "outputs": [
    {
     "data": {
      "text/plain": [
       "'MANNU'"
      ]
     },
     "execution_count": 18,
     "metadata": {},
     "output_type": "execute_result"
    }
   ],
   "source": [
    "x.upper()"
   ]
  },
  {
   "cell_type": "code",
   "execution_count": 19,
   "id": "e23640b4",
   "metadata": {},
   "outputs": [
    {
     "data": {
      "text/plain": [
       "'mannu'"
      ]
     },
     "execution_count": 19,
     "metadata": {},
     "output_type": "execute_result"
    }
   ],
   "source": [
    "x.lower()"
   ]
  },
  {
   "cell_type": "code",
   "execution_count": 20,
   "id": "e3ad4229",
   "metadata": {},
   "outputs": [
    {
     "data": {
      "text/plain": [
       "['Mannu']"
      ]
     },
     "execution_count": 20,
     "metadata": {},
     "output_type": "execute_result"
    }
   ],
   "source": [
    "x.split()  #split after getting a space"
   ]
  },
  {
   "cell_type": "code",
   "execution_count": 21,
   "id": "e4c56c36",
   "metadata": {},
   "outputs": [
    {
     "data": {
      "text/plain": [
       "['Ma', '', 'u']"
      ]
     },
     "execution_count": 21,
     "metadata": {},
     "output_type": "execute_result"
    }
   ],
   "source": [
    "x.split('n')  #split after getting character n"
   ]
  },
  {
   "cell_type": "code",
   "execution_count": 1,
   "id": "2f9890d3",
   "metadata": {},
   "outputs": [
    {
     "data": {
      "text/plain": [
       "['Manoj', 'maddy']"
      ]
     },
     "execution_count": 1,
     "metadata": {},
     "output_type": "execute_result"
    }
   ],
   "source": [
    "name=\"Manoj maddy\"\n",
    "name.split()"
   ]
  },
  {
   "cell_type": "code",
   "execution_count": 2,
   "id": "5a104afb",
   "metadata": {},
   "outputs": [
    {
     "data": {
      "text/plain": [
       "'MANOJ MADDY'"
      ]
     },
     "execution_count": 2,
     "metadata": {},
     "output_type": "execute_result"
    }
   ],
   "source": [
    "name.upper()"
   ]
  },
  {
   "cell_type": "code",
   "execution_count": 3,
   "id": "32ac6cae",
   "metadata": {},
   "outputs": [
    {
     "data": {
      "text/plain": [
       "'manoj maddy'"
      ]
     },
     "execution_count": 3,
     "metadata": {},
     "output_type": "execute_result"
    }
   ],
   "source": [
    "name.lower()"
   ]
  },
  {
   "cell_type": "code",
   "execution_count": 4,
   "id": "1a4751fa",
   "metadata": {},
   "outputs": [
    {
     "data": {
      "text/plain": [
       "['Ma', 'oj maddy']"
      ]
     },
     "execution_count": 4,
     "metadata": {},
     "output_type": "execute_result"
    }
   ],
   "source": [
    "name.split('n')"
   ]
  },
  {
   "cell_type": "code",
   "execution_count": 5,
   "id": "73880548",
   "metadata": {},
   "outputs": [],
   "source": [
    "name=name+name"
   ]
  },
  {
   "cell_type": "code",
   "execution_count": 6,
   "id": "e3f07a07",
   "metadata": {},
   "outputs": [
    {
     "data": {
      "text/plain": [
       "'Manoj maddyManoj maddy'"
      ]
     },
     "execution_count": 6,
     "metadata": {},
     "output_type": "execute_result"
    }
   ],
   "source": [
    "name"
   ]
  },
  {
   "cell_type": "code",
   "execution_count": null,
   "id": "6e58c5b1",
   "metadata": {},
   "outputs": [],
   "source": []
  }
 ],
 "metadata": {
  "kernelspec": {
   "display_name": "Python 3",
   "language": "python",
   "name": "python3"
  },
  "language_info": {
   "codemirror_mode": {
    "name": "ipython",
    "version": 3
   },
   "file_extension": ".py",
   "mimetype": "text/x-python",
   "name": "python",
   "nbconvert_exporter": "python",
   "pygments_lexer": "ipython3",
   "version": "3.8.8"
  }
 },
 "nbformat": 4,
 "nbformat_minor": 5
}
