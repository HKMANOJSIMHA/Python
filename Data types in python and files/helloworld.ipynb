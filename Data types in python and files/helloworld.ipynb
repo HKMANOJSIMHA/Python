{
 "cells": [
  {
   "cell_type": "code",
   "execution_count": null,
   "id": "af5e1983",
   "metadata": {},
   "outputs": [],
   "source": [
    "print(\"hello\")"
   ]
  },
  {
   "cell_type": "code",
   "execution_count": 2,
   "id": "8a5a25a5",
   "metadata": {},
   "outputs": [
    {
     "name": "stdout",
     "output_type": "stream",
     "text": [
      "new\n",
      "hello\n"
     ]
    }
   ],
   "source": [
    "print(\"new\")\n",
    "print(\"hello\")"
   ]
  },
  {
   "cell_type": "markdown",
   "id": "3303415f",
   "metadata": {},
   "source": [
    "For writing notes"
   ]
  },
  {
   "cell_type": "code",
   "execution_count": null,
   "id": "f5a1e04a",
   "metadata": {},
   "outputs": [],
   "source": []
  }
 ],
 "metadata": {
  "kernelspec": {
   "display_name": "Python 3",
   "language": "python",
   "name": "python3"
  },
  "language_info": {
   "codemirror_mode": {
    "name": "ipython",
    "version": 3
   },
   "file_extension": ".py",
   "mimetype": "text/x-python",
   "name": "python",
   "nbconvert_exporter": "python",
   "pygments_lexer": "ipython3",
   "version": "3.8.8"
  }
 },
 "nbformat": 4,
 "nbformat_minor": 5
}
