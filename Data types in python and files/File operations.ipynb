{
 "cells": [
  {
   "cell_type": "code",
   "execution_count": 1,
   "id": "60e2d25f",
   "metadata": {},
   "outputs": [],
   "source": [
    "file=open('test.txt')"
   ]
  },
  {
   "cell_type": "code",
   "execution_count": 2,
   "id": "9f28eada",
   "metadata": {},
   "outputs": [
    {
     "data": {
      "text/plain": [
       "'First Line\\nSecond Line\\nThird line\\nFourth line'"
      ]
     },
     "execution_count": 2,
     "metadata": {},
     "output_type": "execute_result"
    }
   ],
   "source": [
    "file.read()"
   ]
  },
  {
   "cell_type": "code",
   "execution_count": 4,
   "id": "dd6f1e62",
   "metadata": {},
   "outputs": [
    {
     "data": {
      "text/plain": [
       "''"
      ]
     },
     "execution_count": 4,
     "metadata": {},
     "output_type": "execute_result"
    }
   ],
   "source": [
    "file.read()   #this o/p is because the cursor has moved to the end of the file and if u try to \n",
    "              #to run it again u will get a empty string"
   ]
  },
  {
   "cell_type": "code",
   "execution_count": 6,
   "id": "5acd58bb",
   "metadata": {},
   "outputs": [
    {
     "data": {
      "text/plain": [
       "0"
      ]
     },
     "execution_count": 6,
     "metadata": {},
     "output_type": "execute_result"
    }
   ],
   "source": [
    "file.seek(0) #this will bring back the cursor to the begining of the file"
   ]
  },
  {
   "cell_type": "code",
   "execution_count": 7,
   "id": "e7d02bb6",
   "metadata": {},
   "outputs": [
    {
     "data": {
      "text/plain": [
       "'First Line\\nSecond Line\\nThird line\\nFourth line'"
      ]
     },
     "execution_count": 7,
     "metadata": {},
     "output_type": "execute_result"
    }
   ],
   "source": [
    "file.read()"
   ]
  },
  {
   "cell_type": "code",
   "execution_count": 8,
   "id": "1813429e",
   "metadata": {},
   "outputs": [
    {
     "data": {
      "text/plain": [
       "True"
      ]
     },
     "execution_count": 8,
     "metadata": {},
     "output_type": "execute_result"
    }
   ],
   "source": [
    "file.readable()"
   ]
  },
  {
   "cell_type": "code",
   "execution_count": 9,
   "id": "28f02590",
   "metadata": {},
   "outputs": [
    {
     "data": {
      "text/plain": [
       "''"
      ]
     },
     "execution_count": 9,
     "metadata": {},
     "output_type": "execute_result"
    }
   ],
   "source": [
    "file.readline(0)"
   ]
  },
  {
   "cell_type": "code",
   "execution_count": 14,
   "id": "bca654ad",
   "metadata": {},
   "outputs": [
    {
     "data": {
      "text/plain": [
       "0"
      ]
     },
     "execution_count": 14,
     "metadata": {},
     "output_type": "execute_result"
    }
   ],
   "source": [
    "file.seek(0)"
   ]
  },
  {
   "cell_type": "code",
   "execution_count": 15,
   "id": "0679f35f",
   "metadata": {},
   "outputs": [
    {
     "data": {
      "text/plain": [
       "['First Line\\n', 'Second Line\\n', 'Third line\\n', 'Fourth line']"
      ]
     },
     "execution_count": 15,
     "metadata": {},
     "output_type": "execute_result"
    }
   ],
   "source": [
    "file.readlines()"
   ]
  },
  {
   "cell_type": "code",
   "execution_count": 17,
   "id": "523836f6",
   "metadata": {},
   "outputs": [],
   "source": [
    "file.close()"
   ]
  },
  {
   "cell_type": "code",
   "execution_count": 21,
   "id": "d2176ae4",
   "metadata": {},
   "outputs": [],
   "source": [
    "with open('test.txt') as file:  #opening a file in this way does not require closing of file\n",
    "    file.seek(0)\n",
    "    content=file.read()"
   ]
  },
  {
   "cell_type": "code",
   "execution_count": 22,
   "id": "c5e3e93c",
   "metadata": {},
   "outputs": [
    {
     "data": {
      "text/plain": [
       "'First Line\\nSecond Line\\nThird line\\nFourth line'"
      ]
     },
     "execution_count": 22,
     "metadata": {},
     "output_type": "execute_result"
    }
   ],
   "source": [
    "content"
   ]
  },
  {
   "cell_type": "code",
   "execution_count": 23,
   "id": "b3aff787",
   "metadata": {},
   "outputs": [],
   "source": [
    "with open('test.txt',mode='w') as file:\n",
    "    file.write(\"\\nFifth line\")"
   ]
  },
  {
   "cell_type": "code",
   "execution_count": 27,
   "id": "f89da794",
   "metadata": {},
   "outputs": [
    {
     "name": "stdout",
     "output_type": "stream",
     "text": [
      "\n",
      "Fifth line\n",
      "sixth line\n"
     ]
    }
   ],
   "source": [
    "with open('test.txt',mode='r') as file:\n",
    "    file.seek(0)\n",
    "    print(file.read())"
   ]
  },
  {
   "cell_type": "code",
   "execution_count": 26,
   "id": "650a7619",
   "metadata": {},
   "outputs": [],
   "source": [
    "with open('test.txt',mode='a') as file:\n",
    "    file.write(\"\\nsixth line\")"
   ]
  },
  {
   "cell_type": "code",
   "execution_count": 28,
   "id": "ac3e3ea9",
   "metadata": {},
   "outputs": [],
   "source": [
    "with open('test1.txt',mode='w') as file:\n",
    "    file.write(\"this is the new file that is being created\")"
   ]
  },
  {
   "cell_type": "code",
   "execution_count": 29,
   "id": "c69fb821",
   "metadata": {},
   "outputs": [
    {
     "name": "stdout",
     "output_type": "stream",
     "text": [
      "this is the new file that is being created\n"
     ]
    }
   ],
   "source": [
    "with open('test1.txt',mode='r') as file:\n",
    "    file.seek(0)\n",
    "    print(file.read())"
   ]
  },
  {
   "cell_type": "code",
   "execution_count": 7,
   "id": "99b8c026",
   "metadata": {},
   "outputs": [],
   "source": [
    "with open('test2.txt',mode='w') as f1:\n",
    "    f1.write(\"This is test2\")"
   ]
  },
  {
   "cell_type": "code",
   "execution_count": 22,
   "id": "b7a9b16d",
   "metadata": {},
   "outputs": [],
   "source": [
    "with open('test2.txt',mode='r') as f1:\n",
    "    f2=f1.read()"
   ]
  },
  {
   "cell_type": "code",
   "execution_count": 23,
   "id": "c738ff3b",
   "metadata": {},
   "outputs": [
    {
     "data": {
      "text/plain": [
       "'\\nIadded a new line'"
      ]
     },
     "execution_count": 23,
     "metadata": {},
     "output_type": "execute_result"
    }
   ],
   "source": [
    "f2"
   ]
  },
  {
   "cell_type": "code",
   "execution_count": 29,
   "id": "5149f74f",
   "metadata": {},
   "outputs": [],
   "source": [
    "with open('test3.txt',mode='w+') as file2:\n",
    "    file2.write(\"Hii everyone\")\n",
    "    fil\n",
    "    f3=file2.read()"
   ]
  },
  {
   "cell_type": "code",
   "execution_count": 30,
   "id": "7df09ec2",
   "metadata": {},
   "outputs": [
    {
     "data": {
      "text/plain": [
       "''"
      ]
     },
     "execution_count": 30,
     "metadata": {},
     "output_type": "execute_result"
    }
   ],
   "source": [
    "f3"
   ]
  },
  {
   "cell_type": "code",
   "execution_count": null,
   "id": "98daa2ed",
   "metadata": {},
   "outputs": [],
   "source": []
  }
 ],
 "metadata": {
  "kernelspec": {
   "display_name": "Python 3",
   "language": "python",
   "name": "python3"
  },
  "language_info": {
   "codemirror_mode": {
    "name": "ipython",
    "version": 3
   },
   "file_extension": ".py",
   "mimetype": "text/x-python",
   "name": "python",
   "nbconvert_exporter": "python",
   "pygments_lexer": "ipython3",
   "version": "3.8.8"
  }
 },
 "nbformat": 4,
 "nbformat_minor": 5
}
