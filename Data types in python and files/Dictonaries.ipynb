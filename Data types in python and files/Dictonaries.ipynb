{
 "cells": [
  {
   "cell_type": "code",
   "execution_count": 2,
   "id": "68080cf8",
   "metadata": {},
   "outputs": [],
   "source": [
    "my_shop={'TV':10000,'FRIDGE':20000,'AC':40000,'FAN':7000}"
   ]
  },
  {
   "cell_type": "code",
   "execution_count": 5,
   "id": "cb12347c",
   "metadata": {},
   "outputs": [
    {
     "name": "stdout",
     "output_type": "stream",
     "text": [
      "The price of the tv is: 10000\n"
     ]
    }
   ],
   "source": [
    "print(\"The price of the tv is: {}\".format(my_shop['TV']))"
   ]
  },
  {
   "cell_type": "code",
   "execution_count": 4,
   "id": "e4e9396d",
   "metadata": {},
   "outputs": [],
   "source": [
    "my_dict={'k1':100,'k2':[200,300,400],'k3':{'k11':10,'k22':20}}"
   ]
  },
  {
   "cell_type": "code",
   "execution_count": 5,
   "id": "9aa598d3",
   "metadata": {},
   "outputs": [
    {
     "data": {
      "text/plain": [
       "210"
      ]
     },
     "execution_count": 5,
     "metadata": {},
     "output_type": "execute_result"
    }
   ],
   "source": [
    "my_dict['k2'][0]+my_dict['k3']['k11']"
   ]
  },
  {
   "cell_type": "code",
   "execution_count": 6,
   "id": "4ee18818",
   "metadata": {},
   "outputs": [],
   "source": [
    "my_dict['k4']=900"
   ]
  },
  {
   "cell_type": "code",
   "execution_count": 7,
   "id": "da5795bb",
   "metadata": {},
   "outputs": [
    {
     "data": {
      "text/plain": [
       "{'k1': 100, 'k2': [200, 300, 400], 'k3': {'k11': 10, 'k22': 20}, 'k4': 900}"
      ]
     },
     "execution_count": 7,
     "metadata": {},
     "output_type": "execute_result"
    }
   ],
   "source": [
    "my_dict"
   ]
  },
  {
   "cell_type": "code",
   "execution_count": 8,
   "id": "be45c851",
   "metadata": {},
   "outputs": [
    {
     "data": {
      "text/plain": [
       "dict_keys(['k1', 'k2', 'k3', 'k4'])"
      ]
     },
     "execution_count": 8,
     "metadata": {},
     "output_type": "execute_result"
    }
   ],
   "source": [
    "my_dict.keys()"
   ]
  },
  {
   "cell_type": "code",
   "execution_count": 9,
   "id": "68576207",
   "metadata": {},
   "outputs": [
    {
     "data": {
      "text/plain": [
       "dict_values([100, [200, 300, 400], {'k11': 10, 'k22': 20}, 900])"
      ]
     },
     "execution_count": 9,
     "metadata": {},
     "output_type": "execute_result"
    }
   ],
   "source": [
    "my_dict.values()"
   ]
  },
  {
   "cell_type": "code",
   "execution_count": 10,
   "id": "87697e65",
   "metadata": {},
   "outputs": [
    {
     "data": {
      "text/plain": [
       "dict_items([('k1', 100), ('k2', [200, 300, 400]), ('k3', {'k11': 10, 'k22': 20}), ('k4', 900)])"
      ]
     },
     "execution_count": 10,
     "metadata": {},
     "output_type": "execute_result"
    }
   ],
   "source": [
    "my_dict.items()"
   ]
  },
  {
   "cell_type": "code",
   "execution_count": 11,
   "id": "3b624ade",
   "metadata": {},
   "outputs": [
    {
     "data": {
      "text/plain": [
       "100"
      ]
     },
     "execution_count": 11,
     "metadata": {},
     "output_type": "execute_result"
    }
   ],
   "source": [
    "my_dict.pop('k1')"
   ]
  },
  {
   "cell_type": "code",
   "execution_count": 12,
   "id": "b012d821",
   "metadata": {},
   "outputs": [
    {
     "data": {
      "text/plain": [
       "{'k2': [200, 300, 400], 'k3': {'k11': 10, 'k22': 20}, 'k4': 900}"
      ]
     },
     "execution_count": 12,
     "metadata": {},
     "output_type": "execute_result"
    }
   ],
   "source": [
    "my_dict"
   ]
  },
  {
   "cell_type": "code",
   "execution_count": 13,
   "id": "1cfa7c5a",
   "metadata": {},
   "outputs": [
    {
     "data": {
      "text/plain": [
       "{'k11': 10, 'k22': 20}"
      ]
     },
     "execution_count": 13,
     "metadata": {},
     "output_type": "execute_result"
    }
   ],
   "source": [
    "my_dict['k3']"
   ]
  },
  {
   "cell_type": "code",
   "execution_count": 14,
   "id": "dac15713",
   "metadata": {},
   "outputs": [
    {
     "data": {
      "text/plain": [
       "{'k2': [200, 300, 400], 'k3': {'k11': 10, 'k22': 20}, 'k4': 900}"
      ]
     },
     "execution_count": 14,
     "metadata": {},
     "output_type": "execute_result"
    }
   ],
   "source": [
    "my_dict\n"
   ]
  },
  {
   "cell_type": "code",
   "execution_count": 15,
   "id": "0e6463f8",
   "metadata": {},
   "outputs": [
    {
     "data": {
      "text/plain": [
       "[200, 300, 400]"
      ]
     },
     "execution_count": 15,
     "metadata": {},
     "output_type": "execute_result"
    }
   ],
   "source": [
    "my_dict.pop('k2')"
   ]
  },
  {
   "cell_type": "code",
   "execution_count": null,
   "id": "0d79aa7c",
   "metadata": {},
   "outputs": [],
   "source": [
    "my_dict.key"
   ]
  }
 ],
 "metadata": {
  "kernelspec": {
   "display_name": "Python 3",
   "language": "python",
   "name": "python3"
  },
  "language_info": {
   "codemirror_mode": {
    "name": "ipython",
    "version": 3
   },
   "file_extension": ".py",
   "mimetype": "text/x-python",
   "name": "python",
   "nbconvert_exporter": "python",
   "pygments_lexer": "ipython3",
   "version": "3.8.8"
  }
 },
 "nbformat": 4,
 "nbformat_minor": 5
}
