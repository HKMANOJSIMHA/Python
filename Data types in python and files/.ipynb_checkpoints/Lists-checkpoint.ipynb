{
 "cells": [
  {
   "cell_type": "code",
   "execution_count": 1,
   "id": "9d154df8",
   "metadata": {},
   "outputs": [
    {
     "data": {
      "text/plain": [
       "[10, 20, 30, 40]"
      ]
     },
     "execution_count": 1,
     "metadata": {},
     "output_type": "execute_result"
    }
   ],
   "source": [
    "first_list=[10,20,30,40]\n",
    "first_list"
   ]
  },
  {
   "cell_type": "code",
   "execution_count": 2,
   "id": "07be7f64",
   "metadata": {},
   "outputs": [
    {
     "data": {
      "text/plain": [
       "20"
      ]
     },
     "execution_count": 2,
     "metadata": {},
     "output_type": "execute_result"
    }
   ],
   "source": [
    "first_list[1]"
   ]
  },
  {
   "cell_type": "code",
   "execution_count": 3,
   "id": "6f3f9b08",
   "metadata": {},
   "outputs": [
    {
     "data": {
      "text/plain": [
       "[20, 30, 40]"
      ]
     },
     "execution_count": 3,
     "metadata": {},
     "output_type": "execute_result"
    }
   ],
   "source": [
    "first_list[1:]"
   ]
  },
  {
   "cell_type": "code",
   "execution_count": 4,
   "id": "c04cfcab",
   "metadata": {},
   "outputs": [
    {
     "data": {
      "text/plain": [
       "[10, 20, 30]"
      ]
     },
     "execution_count": 4,
     "metadata": {},
     "output_type": "execute_result"
    }
   ],
   "source": [
    "first_list[:3]"
   ]
  },
  {
   "cell_type": "code",
   "execution_count": 5,
   "id": "c89930e1",
   "metadata": {},
   "outputs": [
    {
     "data": {
      "text/plain": [
       "[10, 30]"
      ]
     },
     "execution_count": 5,
     "metadata": {},
     "output_type": "execute_result"
    }
   ],
   "source": [
    "first_list[::2]"
   ]
  },
  {
   "cell_type": "code",
   "execution_count": 6,
   "id": "fecba7aa",
   "metadata": {},
   "outputs": [
    {
     "data": {
      "text/plain": [
       "[40, 30, 20, 10]"
      ]
     },
     "execution_count": 6,
     "metadata": {},
     "output_type": "execute_result"
    }
   ],
   "source": [
    "first_list[::-1]"
   ]
  },
  {
   "cell_type": "code",
   "execution_count": 7,
   "id": "a87373ff",
   "metadata": {},
   "outputs": [
    {
     "data": {
      "text/plain": [
       "[50, 60, 70, 80]"
      ]
     },
     "execution_count": 7,
     "metadata": {},
     "output_type": "execute_result"
    }
   ],
   "source": [
    "second_list=[50,60,70,80]\n",
    "second_list"
   ]
  },
  {
   "cell_type": "code",
   "execution_count": 8,
   "id": "773d252a",
   "metadata": {},
   "outputs": [
    {
     "data": {
      "text/plain": [
       "[10, 20, 30, 40, 50, 60, 70, 80]"
      ]
     },
     "execution_count": 8,
     "metadata": {},
     "output_type": "execute_result"
    }
   ],
   "source": [
    "con_list=first_list+second_list\n",
    "con_list"
   ]
  },
  {
   "cell_type": "code",
   "execution_count": 9,
   "id": "2fe113d4",
   "metadata": {},
   "outputs": [],
   "source": [
    "con_list[2]=90"
   ]
  },
  {
   "cell_type": "code",
   "execution_count": 10,
   "id": "97bf2d01",
   "metadata": {},
   "outputs": [
    {
     "data": {
      "text/plain": [
       "[10, 20, 90, 40, 50, 60, 70, 80]"
      ]
     },
     "execution_count": 10,
     "metadata": {},
     "output_type": "execute_result"
    }
   ],
   "source": [
    "con_list"
   ]
  },
  {
   "cell_type": "code",
   "execution_count": 11,
   "id": "3fa676a0",
   "metadata": {},
   "outputs": [],
   "source": [
    "con_list.append(100)"
   ]
  },
  {
   "cell_type": "code",
   "execution_count": 12,
   "id": "7e747fd7",
   "metadata": {},
   "outputs": [
    {
     "data": {
      "text/plain": [
       "[10, 20, 90, 40, 50, 60, 70, 80, 100]"
      ]
     },
     "execution_count": 12,
     "metadata": {},
     "output_type": "execute_result"
    }
   ],
   "source": [
    "con_list"
   ]
  },
  {
   "cell_type": "code",
   "execution_count": 13,
   "id": "6218d11d",
   "metadata": {},
   "outputs": [
    {
     "data": {
      "text/plain": [
       "40"
      ]
     },
     "execution_count": 13,
     "metadata": {},
     "output_type": "execute_result"
    }
   ],
   "source": [
    "con_list.pop(3)   #by default pop removes the last item"
   ]
  },
  {
   "cell_type": "code",
   "execution_count": 14,
   "id": "016113f9",
   "metadata": {},
   "outputs": [
    {
     "data": {
      "text/plain": [
       "[10, 20, 90, 50, 60, 70, 80, 100]"
      ]
     },
     "execution_count": 14,
     "metadata": {},
     "output_type": "execute_result"
    }
   ],
   "source": [
    "con_list\n",
    "\n"
   ]
  },
  {
   "cell_type": "code",
   "execution_count": 17,
   "id": "3fa3b0be",
   "metadata": {},
   "outputs": [],
   "source": [
    "con_list.sort()   #returns nothing it just sorts the original list"
   ]
  },
  {
   "cell_type": "code",
   "execution_count": 18,
   "id": "f6e929d0",
   "metadata": {},
   "outputs": [
    {
     "data": {
      "text/plain": [
       "[10, 20, 50, 60, 70, 80, 90, 100]"
      ]
     },
     "execution_count": 18,
     "metadata": {},
     "output_type": "execute_result"
    }
   ],
   "source": [
    "con_list"
   ]
  },
  {
   "cell_type": "code",
   "execution_count": 19,
   "id": "609daf3d",
   "metadata": {},
   "outputs": [],
   "source": [
    "con_list.reverse()"
   ]
  },
  {
   "cell_type": "code",
   "execution_count": 20,
   "id": "5f259adb",
   "metadata": {},
   "outputs": [
    {
     "data": {
      "text/plain": [
       "[100, 90, 80, 70, 60, 50, 20, 10]"
      ]
     },
     "execution_count": 20,
     "metadata": {},
     "output_type": "execute_result"
    }
   ],
   "source": [
    "con_list"
   ]
  },
  {
   "cell_type": "code",
   "execution_count": null,
   "id": "19754bc0",
   "metadata": {},
   "outputs": [],
   "source": []
  }
 ],
 "metadata": {
  "kernelspec": {
   "display_name": "Python 3",
   "language": "python",
   "name": "python3"
  },
  "language_info": {
   "codemirror_mode": {
    "name": "ipython",
    "version": 3
   },
   "file_extension": ".py",
   "mimetype": "text/x-python",
   "name": "python",
   "nbconvert_exporter": "python",
   "pygments_lexer": "ipython3",
   "version": "3.8.8"
  }
 },
 "nbformat": 4,
 "nbformat_minor": 5
}
