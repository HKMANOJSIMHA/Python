{
 "cells": [
  {
   "cell_type": "code",
   "execution_count": 1,
   "id": "e7fd8ac8",
   "metadata": {},
   "outputs": [],
   "source": [
    "my_Set=set()"
   ]
  },
  {
   "cell_type": "code",
   "execution_count": 2,
   "id": "fe6cd38c",
   "metadata": {},
   "outputs": [
    {
     "data": {
      "text/plain": [
       "set"
      ]
     },
     "execution_count": 2,
     "metadata": {},
     "output_type": "execute_result"
    }
   ],
   "source": [
    "type(my_Set)"
   ]
  },
  {
   "cell_type": "code",
   "execution_count": 3,
   "id": "4c40dcc3",
   "metadata": {},
   "outputs": [],
   "source": [
    "my_Set.add(100)"
   ]
  },
  {
   "cell_type": "code",
   "execution_count": 4,
   "id": "06ffff12",
   "metadata": {},
   "outputs": [
    {
     "data": {
      "text/plain": [
       "{100}"
      ]
     },
     "execution_count": 4,
     "metadata": {},
     "output_type": "execute_result"
    }
   ],
   "source": [
    "my_Set"
   ]
  },
  {
   "cell_type": "code",
   "execution_count": 6,
   "id": "0720c251",
   "metadata": {},
   "outputs": [],
   "source": [
    "my_Set.add(200)"
   ]
  },
  {
   "cell_type": "code",
   "execution_count": 7,
   "id": "c2fe76bb",
   "metadata": {},
   "outputs": [
    {
     "data": {
      "text/plain": [
       "{100, 200}"
      ]
     },
     "execution_count": 7,
     "metadata": {},
     "output_type": "execute_result"
    }
   ],
   "source": [
    "my_Set"
   ]
  },
  {
   "cell_type": "code",
   "execution_count": 8,
   "id": "5bf73dd8",
   "metadata": {},
   "outputs": [],
   "source": [
    "my_list=[200,200,200,100,100,300,300]"
   ]
  },
  {
   "cell_type": "code",
   "execution_count": 9,
   "id": "80b7ada4",
   "metadata": {},
   "outputs": [
    {
     "data": {
      "text/plain": [
       "{100, 200, 300}"
      ]
     },
     "execution_count": 9,
     "metadata": {},
     "output_type": "execute_result"
    }
   ],
   "source": [
    "set(my_list)"
   ]
  },
  {
   "cell_type": "code",
   "execution_count": 1,
   "id": "8d7c0c91",
   "metadata": {},
   "outputs": [],
   "source": [
    "s1=set()"
   ]
  },
  {
   "cell_type": "code",
   "execution_count": 2,
   "id": "4bacf065",
   "metadata": {},
   "outputs": [],
   "source": [
    "s1.add(100)"
   ]
  },
  {
   "cell_type": "code",
   "execution_count": 3,
   "id": "4a11c478",
   "metadata": {},
   "outputs": [],
   "source": [
    "s1.add(100)"
   ]
  },
  {
   "cell_type": "code",
   "execution_count": 4,
   "id": "2778d8d6",
   "metadata": {},
   "outputs": [
    {
     "data": {
      "text/plain": [
       "{100}"
      ]
     },
     "execution_count": 4,
     "metadata": {},
     "output_type": "execute_result"
    }
   ],
   "source": [
    "s1"
   ]
  },
  {
   "cell_type": "code",
   "execution_count": 6,
   "id": "8ce5b07a",
   "metadata": {},
   "outputs": [],
   "source": [
    "l1=[1000,\"Manoj\",1000,200]"
   ]
  },
  {
   "cell_type": "code",
   "execution_count": null,
   "id": "9de12af9",
   "metadata": {},
   "outputs": [],
   "source": []
  }
 ],
 "metadata": {
  "kernelspec": {
   "display_name": "Python 3",
   "language": "python",
   "name": "python3"
  },
  "language_info": {
   "codemirror_mode": {
    "name": "ipython",
    "version": 3
   },
   "file_extension": ".py",
   "mimetype": "text/x-python",
   "name": "python",
   "nbconvert_exporter": "python",
   "pygments_lexer": "ipython3",
   "version": "3.8.8"
  }
 },
 "nbformat": 4,
 "nbformat_minor": 5
}
