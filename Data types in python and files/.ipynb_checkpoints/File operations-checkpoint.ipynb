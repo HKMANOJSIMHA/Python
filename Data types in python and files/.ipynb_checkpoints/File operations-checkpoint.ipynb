{
 "cells": [
  {
   "cell_type": "code",
   "execution_count": 1,
   "id": "5c132077",
   "metadata": {},
   "outputs": [],
   "source": [
    "file=open('test.txt')"
   ]
  },
  {
   "cell_type": "code",
   "execution_count": 2,
   "id": "17e90fc4",
   "metadata": {},
   "outputs": [
    {
     "data": {
      "text/plain": [
       "'First Line\\nSecond Line\\nThird line\\nFourth line'"
      ]
     },
     "execution_count": 2,
     "metadata": {},
     "output_type": "execute_result"
    }
   ],
   "source": [
    "file.read()"
   ]
  },
  {
   "cell_type": "code",
   "execution_count": 4,
   "id": "82a01bc6",
   "metadata": {},
   "outputs": [
    {
     "data": {
      "text/plain": [
       "''"
      ]
     },
     "execution_count": 4,
     "metadata": {},
     "output_type": "execute_result"
    }
   ],
   "source": [
    "file.read()   #this o/p is because the cursor has moved to the end of the file and if u try to \n",
    "              #to run it again u will get a empty string"
   ]
  },
  {
   "cell_type": "code",
   "execution_count": 6,
   "id": "d48a8b0e",
   "metadata": {},
   "outputs": [
    {
     "data": {
      "text/plain": [
       "0"
      ]
     },
     "execution_count": 6,
     "metadata": {},
     "output_type": "execute_result"
    }
   ],
   "source": [
    "file.seek(0) #this will bring back the cursor to the begining of the file"
   ]
  },
  {
   "cell_type": "code",
   "execution_count": 7,
   "id": "ae9e63be",
   "metadata": {},
   "outputs": [
    {
     "data": {
      "text/plain": [
       "'First Line\\nSecond Line\\nThird line\\nFourth line'"
      ]
     },
     "execution_count": 7,
     "metadata": {},
     "output_type": "execute_result"
    }
   ],
   "source": [
    "file.read()"
   ]
  },
  {
   "cell_type": "code",
   "execution_count": 8,
   "id": "43a2bc42",
   "metadata": {},
   "outputs": [
    {
     "data": {
      "text/plain": [
       "True"
      ]
     },
     "execution_count": 8,
     "metadata": {},
     "output_type": "execute_result"
    }
   ],
   "source": [
    "file.readable()"
   ]
  },
  {
   "cell_type": "code",
   "execution_count": 9,
   "id": "280797e6",
   "metadata": {},
   "outputs": [
    {
     "data": {
      "text/plain": [
       "''"
      ]
     },
     "execution_count": 9,
     "metadata": {},
     "output_type": "execute_result"
    }
   ],
   "source": [
    "file.readline(0)"
   ]
  },
  {
   "cell_type": "code",
   "execution_count": 14,
   "id": "546f7436",
   "metadata": {},
   "outputs": [
    {
     "data": {
      "text/plain": [
       "0"
      ]
     },
     "execution_count": 14,
     "metadata": {},
     "output_type": "execute_result"
    }
   ],
   "source": [
    "file.seek(0)"
   ]
  },
  {
   "cell_type": "code",
   "execution_count": 15,
   "id": "5ed38d9a",
   "metadata": {},
   "outputs": [
    {
     "data": {
      "text/plain": [
       "['First Line\\n', 'Second Line\\n', 'Third line\\n', 'Fourth line']"
      ]
     },
     "execution_count": 15,
     "metadata": {},
     "output_type": "execute_result"
    }
   ],
   "source": [
    "file.readlines()"
   ]
  },
  {
   "cell_type": "code",
   "execution_count": 17,
   "id": "8cf45d69",
   "metadata": {},
   "outputs": [],
   "source": [
    "file.close()"
   ]
  },
  {
   "cell_type": "code",
   "execution_count": 21,
   "id": "bf083455",
   "metadata": {},
   "outputs": [],
   "source": [
    "with open('test.txt') as file:  #opening a file in this way does not require closing of file\n",
    "    file.seek(0)\n",
    "    content=file.read()"
   ]
  },
  {
   "cell_type": "code",
   "execution_count": 22,
   "id": "30a93222",
   "metadata": {},
   "outputs": [
    {
     "data": {
      "text/plain": [
       "'First Line\\nSecond Line\\nThird line\\nFourth line'"
      ]
     },
     "execution_count": 22,
     "metadata": {},
     "output_type": "execute_result"
    }
   ],
   "source": [
    "content"
   ]
  },
  {
   "cell_type": "code",
   "execution_count": 23,
   "id": "3eecc238",
   "metadata": {},
   "outputs": [],
   "source": [
    "with open('test.txt',mode='w') as file:\n",
    "    file.write(\"\\nFifth line\")"
   ]
  },
  {
   "cell_type": "code",
   "execution_count": 27,
   "id": "998ffb07",
   "metadata": {},
   "outputs": [
    {
     "name": "stdout",
     "output_type": "stream",
     "text": [
      "\n",
      "Fifth line\n",
      "sixth line\n"
     ]
    }
   ],
   "source": [
    "with open('test.txt',mode='r') as file:\n",
    "    file.seek(0)\n",
    "    print(file.read())"
   ]
  },
  {
   "cell_type": "code",
   "execution_count": 26,
   "id": "b63ec208",
   "metadata": {},
   "outputs": [],
   "source": [
    "with open('test.txt',mode='a') as file:\n",
    "    file.write(\"\\nsixth line\")"
   ]
  },
  {
   "cell_type": "code",
   "execution_count": 28,
   "id": "0370fe4f",
   "metadata": {},
   "outputs": [],
   "source": [
    "with open('test1.txt',mode='w') as file:\n",
    "    file.write(\"this is the new file that is being created\")"
   ]
  },
  {
   "cell_type": "code",
   "execution_count": null,
   "id": "8cf32447",
   "metadata": {},
   "outputs": [],
   "source": [
    "with open('test1.txt',mode='r') as file:\n",
    "    file.seek(0)\n",
    "    print(file.read())"
   ]
  }
 ],
 "metadata": {
  "kernelspec": {
   "display_name": "Python 3",
   "language": "python",
   "name": "python3"
  },
  "language_info": {
   "codemirror_mode": {
    "name": "ipython",
    "version": 3
   },
   "file_extension": ".py",
   "mimetype": "text/x-python",
   "name": "python",
   "nbconvert_exporter": "python",
   "pygments_lexer": "ipython3",
   "version": "3.8.8"
  }
 },
 "nbformat": 4,
 "nbformat_minor": 5
}
