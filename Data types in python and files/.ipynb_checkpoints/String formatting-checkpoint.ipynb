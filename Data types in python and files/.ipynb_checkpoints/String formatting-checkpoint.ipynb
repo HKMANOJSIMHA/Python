{
 "cells": [
  {
   "cell_type": "code",
   "execution_count": 1,
   "id": "93542d43",
   "metadata": {},
   "outputs": [
    {
     "name": "stdout",
     "output_type": "stream",
     "text": [
      "Hello Maddy\n"
     ]
    }
   ],
   "source": [
    "print(\"Hello {}\".format(\"Maddy\"))"
   ]
  },
  {
   "cell_type": "code",
   "execution_count": 2,
   "id": "fef257a4",
   "metadata": {},
   "outputs": [
    {
     "name": "stdout",
     "output_type": "stream",
     "text": [
      "Hello Maddy Manoj\n"
     ]
    }
   ],
   "source": [
    "print(\"Hello {} {}\".format(\"Maddy\",\"Manoj\"))"
   ]
  },
  {
   "cell_type": "code",
   "execution_count": 3,
   "id": "a6f7c6c4",
   "metadata": {},
   "outputs": [
    {
     "name": "stdout",
     "output_type": "stream",
     "text": [
      "Hello Manoj maddy\n"
     ]
    }
   ],
   "source": [
    "print(\"Hello {1} {0}\".format(\"maddy\",\"Manoj\"))"
   ]
  },
  {
   "cell_type": "code",
   "execution_count": 4,
   "id": "5024b08c",
   "metadata": {},
   "outputs": [
    {
     "name": "stdout",
     "output_type": "stream",
     "text": [
      "Hello Manoj Maddy\n"
     ]
    }
   ],
   "source": [
    "print(\"Hello {m} {md}\".format(m=\"Manoj\",md=\"Maddy\"))"
   ]
  },
  {
   "cell_type": "code",
   "execution_count": 5,
   "id": "3e273541",
   "metadata": {},
   "outputs": [
    {
     "name": "stdout",
     "output_type": "stream",
     "text": [
      "The value of a is: 10\n"
     ]
    }
   ],
   "source": [
    "a=10\n",
    "print(\"The value of a is: {}\".format(a))"
   ]
  },
  {
   "cell_type": "code",
   "execution_count": 6,
   "id": "30ee136a",
   "metadata": {},
   "outputs": [
    {
     "data": {
      "text/plain": [
       "1.2987012987012987"
      ]
     },
     "execution_count": 6,
     "metadata": {},
     "output_type": "execute_result"
    }
   ],
   "source": [
    "a=100/77\n",
    "a"
   ]
  },
  {
   "cell_type": "code",
   "execution_count": 7,
   "id": "1edf55ee",
   "metadata": {},
   "outputs": [
    {
     "name": "stdout",
     "output_type": "stream",
     "text": [
      "The value of a is 1.299\n"
     ]
    }
   ],
   "source": [
    "print(\"The value of a is {b:1.3f}\".format(b=a))"
   ]
  },
  {
   "cell_type": "code",
   "execution_count": 12,
   "id": "4641ea65",
   "metadata": {},
   "outputs": [
    {
     "name": "stdout",
     "output_type": "stream",
     "text": [
      "Name       Age      \n",
      "Manoj             18\n",
      "Maddy             19\n"
     ]
    }
   ],
   "source": [
    "print(\"{0:10} {1:9}\".format(\"Name\",\"Age\"))\n",
    "print(\"{0:10} {1:9}\".format(\"Manoj\",18))\n",
    "print(\"{0:10} {1:9}\".format(\"Maddy\",19))"
   ]
  },
  {
   "cell_type": "code",
   "execution_count": 6,
   "id": "089fd33d",
   "metadata": {},
   "outputs": [
    {
     "name": "stdout",
     "output_type": "stream",
     "text": [
      "Name       Age      \n",
      "Manoj      18       \n",
      "Maddy      19       \n"
     ]
    }
   ],
   "source": [
    "print(\"{0:10} {1:9}\".format(\"Name\",\"Age\"))\n",
    "print(\"{0:<10} {1:<9}\".format(\"Manoj\",18))\n",
    "print(\"{0:<10} {1:<9}\".format(\"Maddy\",19))"
   ]
  },
  {
   "cell_type": "code",
   "execution_count": 21,
   "id": "a2cd6010",
   "metadata": {},
   "outputs": [
    {
     "name": "stdout",
     "output_type": "stream",
     "text": [
      "      Name       Age\n",
      "     Manoj        18\n",
      "     Maddy        19\n"
     ]
    }
   ],
   "source": [
    "print(\"{0:>10} {1:>9}\".format(\"Name\",\"Age\"))\n",
    "print(\"{0:>10} {1:>9}\".format(\"Manoj\",18))\n",
    "print(\"{0:>10} {1:>9}\".format(\"Maddy\",19))"
   ]
  },
  {
   "cell_type": "code",
   "execution_count": 22,
   "id": "faea5817",
   "metadata": {},
   "outputs": [
    {
     "name": "stdout",
     "output_type": "stream",
     "text": [
      "   Name       Age   \n",
      "  Manoj       18    \n",
      "  Maddy       19    \n"
     ]
    }
   ],
   "source": [
    "print(\"{0:^10} {1:^9}\".format(\"Name\",\"Age\"))\n",
    "print(\"{0:^10} {1:^9}\".format(\"Manoj\",18))\n",
    "print(\"{0:^10} {1:^9}\".format(\"Maddy\",19))"
   ]
  },
  {
   "cell_type": "code",
   "execution_count": 23,
   "id": "3e488702",
   "metadata": {},
   "outputs": [
    {
     "name": "stdout",
     "output_type": "stream",
     "text": [
      "===Name=== ===Age===\n"
     ]
    }
   ],
   "source": [
    "print(\"{0:=^10} {1:=^9}\".format(\"Name\",\"Age\"))"
   ]
  },
  {
   "cell_type": "code",
   "execution_count": 28,
   "id": "eeb99ba3",
   "metadata": {},
   "outputs": [
    {
     "name": "stdout",
     "output_type": "stream",
     "text": [
      "Hi my name is manoj\n"
     ]
    }
   ],
   "source": [
    "name=\"manoj\"\n",
    "print(f'Hi my name is {name}')"
   ]
  },
  {
   "cell_type": "code",
   "execution_count": 29,
   "id": "0c312a52",
   "metadata": {},
   "outputs": [
    {
     "name": "stdout",
     "output_type": "stream",
     "text": [
      "the value of n is:10.3489767667\n"
     ]
    }
   ],
   "source": [
    "n=10.3489767667\n",
    "print(f'the value of n is:{n}')"
   ]
  },
  {
   "cell_type": "code",
   "execution_count": 30,
   "id": "d5d19267",
   "metadata": {},
   "outputs": [
    {
     "name": "stdout",
     "output_type": "stream",
     "text": [
      "the value of n is:    10.349\n"
     ]
    }
   ],
   "source": [
    "print(f'the value of n is:{n:10.3f}')"
   ]
  },
  {
   "cell_type": "code",
   "execution_count": 15,
   "id": "868458dd",
   "metadata": {},
   "outputs": [
    {
     "name": "stdout",
     "output_type": "stream",
     "text": [
      "+++++Manoj Maddy++++++ +++Mannu+++\n"
     ]
    }
   ],
   "source": [
    "print(\"{0:+>10} {1:+<11} {2:+^11}\".format(\"Manoj\",\"Maddy\",\"Mannu\"))"
   ]
  },
  {
   "cell_type": "code",
   "execution_count": 16,
   "id": "9c392dec",
   "metadata": {},
   "outputs": [
    {
     "name": "stdout",
     "output_type": "stream",
     "text": [
      "The value of a is:     10.152\n"
     ]
    }
   ],
   "source": [
    "a=10.15165461984651\n",
    "print(f'The value of a is:{a:11.3f}')"
   ]
  },
  {
   "cell_type": "code",
   "execution_count": 17,
   "id": "d83e9b8d",
   "metadata": {},
   "outputs": [
    {
     "name": "stdout",
     "output_type": "stream",
     "text": [
      "The value of a= 10.15165\n"
     ]
    }
   ],
   "source": [
    "print(\"The value of a={0:9.5f}\".format(a))"
   ]
  },
  {
   "cell_type": "code",
   "execution_count": null,
   "id": "d6982799",
   "metadata": {},
   "outputs": [],
   "source": []
  }
 ],
 "metadata": {
  "kernelspec": {
   "display_name": "Python 3",
   "language": "python",
   "name": "python3"
  },
  "language_info": {
   "codemirror_mode": {
    "name": "ipython",
    "version": 3
   },
   "file_extension": ".py",
   "mimetype": "text/x-python",
   "name": "python",
   "nbconvert_exporter": "python",
   "pygments_lexer": "ipython3",
   "version": "3.8.8"
  }
 },
 "nbformat": 4,
 "nbformat_minor": 5
}
