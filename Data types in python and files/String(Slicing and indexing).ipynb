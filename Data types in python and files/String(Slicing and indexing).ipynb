{
 "cells": [
  {
   "cell_type": "code",
   "execution_count": 15,
   "id": "65a0b6e8",
   "metadata": {},
   "outputs": [],
   "source": [
    "my_name=\"ManojMaddy\""
   ]
  },
  {
   "cell_type": "code",
   "execution_count": 2,
   "id": "99828a79",
   "metadata": {},
   "outputs": [
    {
     "data": {
      "text/plain": [
       "'M'"
      ]
     },
     "execution_count": 2,
     "metadata": {},
     "output_type": "execute_result"
    }
   ],
   "source": [
    "my_name[0]"
   ]
  },
  {
   "cell_type": "code",
   "execution_count": 20,
   "id": "769df8f0",
   "metadata": {},
   "outputs": [
    {
     "data": {
      "text/plain": [
       "'y'"
      ]
     },
     "execution_count": 20,
     "metadata": {},
     "output_type": "execute_result"
    }
   ],
   "source": [
    "my_name[-1]   #reverse indexing"
   ]
  },
  {
   "cell_type": "code",
   "execution_count": 21,
   "id": "5ee12ccc",
   "metadata": {},
   "outputs": [
    {
     "data": {
      "text/plain": [
       "'d'"
      ]
     },
     "execution_count": 21,
     "metadata": {},
     "output_type": "execute_result"
    }
   ],
   "source": [
    "my_name[-2]  #reverse indexing"
   ]
  },
  {
   "cell_type": "code",
   "execution_count": 5,
   "id": "97bbd3c6",
   "metadata": {},
   "outputs": [
    {
     "data": {
      "text/plain": [
       "'noj'"
      ]
     },
     "execution_count": 5,
     "metadata": {},
     "output_type": "execute_result"
    }
   ],
   "source": [
    "my_name[2:]    #slicing starts from index 2 upto the end of the string"
   ]
  },
  {
   "cell_type": "code",
   "execution_count": 6,
   "id": "59764ffd",
   "metadata": {},
   "outputs": [
    {
     "data": {
      "text/plain": [
       "'Mano'"
      ]
     },
     "execution_count": 6,
     "metadata": {},
     "output_type": "execute_result"
    }
   ],
   "source": [
    "my_name[:4]   #slicing starts from 0th index upto 4th index excluding the 4th index"
   ]
  },
  {
   "cell_type": "code",
   "execution_count": 19,
   "id": "0aca1d93",
   "metadata": {},
   "outputs": [
    {
     "data": {
      "text/plain": [
       "'no'"
      ]
     },
     "execution_count": 19,
     "metadata": {},
     "output_type": "execute_result"
    }
   ],
   "source": [
    "my_name[2:4]   #slicing starts from 2nd index upto 4th index excluding the 4th index"
   ]
  },
  {
   "cell_type": "code",
   "execution_count": 17,
   "id": "b499c8d7",
   "metadata": {},
   "outputs": [
    {
     "data": {
      "text/plain": [
       "'ManojMaddy'"
      ]
     },
     "execution_count": 17,
     "metadata": {},
     "output_type": "execute_result"
    }
   ],
   "source": [
    "my_name[::]   #To slice the whole string"
   ]
  },
  {
   "cell_type": "code",
   "execution_count": 13,
   "id": "a83300de",
   "metadata": {},
   "outputs": [
    {
     "data": {
      "text/plain": [
       "'Mnj'"
      ]
     },
     "execution_count": 13,
     "metadata": {},
     "output_type": "execute_result"
    }
   ],
   "source": [
    "my_name[::2]  #slice the string from starting to end with a step size of 2"
   ]
  },
  {
   "cell_type": "code",
   "execution_count": 16,
   "id": "bcc63e19",
   "metadata": {},
   "outputs": [
    {
     "data": {
      "text/plain": [
       "'aoM'"
      ]
     },
     "execution_count": 16,
     "metadata": {},
     "output_type": "execute_result"
    }
   ],
   "source": [
    "my_name[1:7:2]  #slice the string starting from 1st index upto 7th index excluding 7th index with step size of 2"
   ]
  },
  {
   "cell_type": "code",
   "execution_count": 22,
   "id": "c4477557",
   "metadata": {},
   "outputs": [
    {
     "data": {
      "text/plain": [
       "'yddaMjonaM'"
      ]
     },
     "execution_count": 22,
     "metadata": {},
     "output_type": "execute_result"
    }
   ],
   "source": [
    "my_name[::-1]  #reverse slicing the whole string"
   ]
  },
  {
   "cell_type": "code",
   "execution_count": null,
   "id": "8085a95f",
   "metadata": {},
   "outputs": [],
   "source": []
  }
 ],
 "metadata": {
  "kernelspec": {
   "display_name": "Python 3",
   "language": "python",
   "name": "python3"
  },
  "language_info": {
   "codemirror_mode": {
    "name": "ipython",
    "version": 3
   },
   "file_extension": ".py",
   "mimetype": "text/x-python",
   "name": "python",
   "nbconvert_exporter": "python",
   "pygments_lexer": "ipython3",
   "version": "3.8.8"
  }
 },
 "nbformat": 4,
 "nbformat_minor": 5
}
