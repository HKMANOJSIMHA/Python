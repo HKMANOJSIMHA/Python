{
 "cells": [
  {
   "cell_type": "code",
   "execution_count": 3,
   "id": "f50a65fd",
   "metadata": {},
   "outputs": [],
   "source": [
    "n1=10\n",
    "n2=20\n",
    "name=\"Manoj\"\n",
    "my_Tuple=(n1,n2,name,name,name)"
   ]
  },
  {
   "cell_type": "code",
   "execution_count": 4,
   "id": "ceb6306f",
   "metadata": {},
   "outputs": [
    {
     "data": {
      "text/plain": [
       "(10, 20, 'Manoj', 'Manoj', 'Manoj')"
      ]
     },
     "execution_count": 4,
     "metadata": {},
     "output_type": "execute_result"
    }
   ],
   "source": [
    "my_Tuple"
   ]
  },
  {
   "cell_type": "code",
   "execution_count": 5,
   "id": "618ab360",
   "metadata": {},
   "outputs": [
    {
     "data": {
      "text/plain": [
       "30"
      ]
     },
     "execution_count": 5,
     "metadata": {},
     "output_type": "execute_result"
    }
   ],
   "source": [
    "my_Tuple[0]+my_Tuple[1]"
   ]
  },
  {
   "cell_type": "code",
   "execution_count": 6,
   "id": "3c163e3a",
   "metadata": {},
   "outputs": [
    {
     "data": {
      "text/plain": [
       "1"
      ]
     },
     "execution_count": 6,
     "metadata": {},
     "output_type": "execute_result"
    }
   ],
   "source": [
    "my_Tuple.index(20)"
   ]
  },
  {
   "cell_type": "code",
   "execution_count": 7,
   "id": "91aafb58",
   "metadata": {},
   "outputs": [
    {
     "data": {
      "text/plain": [
       "3"
      ]
     },
     "execution_count": 7,
     "metadata": {},
     "output_type": "execute_result"
    }
   ],
   "source": [
    "my_Tuple.count(name)"
   ]
  },
  {
   "cell_type": "code",
   "execution_count": 8,
   "id": "f06d59cb",
   "metadata": {},
   "outputs": [
    {
     "data": {
      "text/plain": [
       "2"
      ]
     },
     "execution_count": 8,
     "metadata": {},
     "output_type": "execute_result"
    }
   ],
   "source": [
    "my_Tuple.index(name)"
   ]
  },
  {
   "cell_type": "code",
   "execution_count": 11,
   "id": "4cb5b465",
   "metadata": {},
   "outputs": [
    {
     "ename": "TypeError",
     "evalue": "'tuple' object does not support item assignment",
     "output_type": "error",
     "traceback": [
      "\u001b[1;31m---------------------------------------------------------------------------\u001b[0m",
      "\u001b[1;31mTypeError\u001b[0m                                 Traceback (most recent call last)",
      "\u001b[1;32m<ipython-input-11-421e4f528232>\u001b[0m in \u001b[0;36m<module>\u001b[1;34m\u001b[0m\n\u001b[1;32m----> 1\u001b[1;33m \u001b[0mmy_Tuple\u001b[0m\u001b[1;33m[\u001b[0m\u001b[1;36m3\u001b[0m\u001b[1;33m]\u001b[0m\u001b[1;33m=\u001b[0m\u001b[1;34m\"Maddy\"\u001b[0m\u001b[1;33m\u001b[0m\u001b[1;33m\u001b[0m\u001b[0m\n\u001b[0m",
      "\u001b[1;31mTypeError\u001b[0m: 'tuple' object does not support item assignment"
     ]
    }
   ],
   "source": [
    "my_Tuple[3]=\"Maddy\"   #Tuples are immuatble"
   ]
  },
  {
   "cell_type": "code",
   "execution_count": 9,
   "id": "b5439906",
   "metadata": {},
   "outputs": [],
   "source": [
    "t=(\"Manoj\",10,30,1.333)"
   ]
  },
  {
   "cell_type": "code",
   "execution_count": 10,
   "id": "e2a06d3b",
   "metadata": {},
   "outputs": [
    {
     "name": "stdout",
     "output_type": "stream",
     "text": [
      "The age of Manoj is 30\n"
     ]
    }
   ],
   "source": [
    "print(\"The age of {1} is {0}\".format(t[2],t[0]))"
   ]
  },
  {
   "cell_type": "code",
   "execution_count": 11,
   "id": "bcb55c96",
   "metadata": {},
   "outputs": [
    {
     "data": {
      "text/plain": [
       "('Manoj', 10, 30, 1.333)"
      ]
     },
     "execution_count": 11,
     "metadata": {},
     "output_type": "execute_result"
    }
   ],
   "source": [
    "t[0:]"
   ]
  },
  {
   "cell_type": "code",
   "execution_count": 12,
   "id": "51c338b0",
   "metadata": {},
   "outputs": [
    {
     "data": {
      "text/plain": [
       "('Manoj', 10, 30)"
      ]
     },
     "execution_count": 12,
     "metadata": {},
     "output_type": "execute_result"
    }
   ],
   "source": [
    "t[:3]"
   ]
  },
  {
   "cell_type": "code",
   "execution_count": 13,
   "id": "9c1f3584",
   "metadata": {},
   "outputs": [
    {
     "data": {
      "text/plain": [
       "('Manoj', 30)"
      ]
     },
     "execution_count": 13,
     "metadata": {},
     "output_type": "execute_result"
    }
   ],
   "source": [
    "t[0:4:2]"
   ]
  },
  {
   "cell_type": "code",
   "execution_count": 14,
   "id": "408023d4",
   "metadata": {},
   "outputs": [
    {
     "data": {
      "text/plain": [
       "'Manoj'"
      ]
     },
     "execution_count": 14,
     "metadata": {},
     "output_type": "execute_result"
    }
   ],
   "source": [
    "(\"Manoj\",\"Maddy\")[0]"
   ]
  },
  {
   "cell_type": "code",
   "execution_count": 15,
   "id": "39ed7f36",
   "metadata": {},
   "outputs": [
    {
     "data": {
      "text/plain": [
       "(1.333, 30, 10, 'Manoj')"
      ]
     },
     "execution_count": 15,
     "metadata": {},
     "output_type": "execute_result"
    }
   ],
   "source": [
    "t[::-1]"
   ]
  },
  {
   "cell_type": "code",
   "execution_count": null,
   "id": "08956959",
   "metadata": {},
   "outputs": [],
   "source": []
  }
 ],
 "metadata": {
  "kernelspec": {
   "display_name": "Python 3",
   "language": "python",
   "name": "python3"
  },
  "language_info": {
   "codemirror_mode": {
    "name": "ipython",
    "version": 3
   },
   "file_extension": ".py",
   "mimetype": "text/x-python",
   "name": "python",
   "nbconvert_exporter": "python",
   "pygments_lexer": "ipython3",
   "version": "3.8.8"
  }
 },
 "nbformat": 4,
 "nbformat_minor": 5
}
